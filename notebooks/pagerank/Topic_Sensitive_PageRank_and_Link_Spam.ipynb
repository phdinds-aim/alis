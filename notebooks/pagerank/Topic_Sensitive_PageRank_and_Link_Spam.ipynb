{
 "cells": [
  {
   "cell_type": "markdown",
   "metadata": {},
   "source": [
    "# Topic-Sensitive PageRank"
   ]
  },
  {
   "cell_type": "markdown",
   "metadata": {},
   "source": [
    "The PageRank algorithm could be modified so that it can put more weight to certain pages depending on some topic. One possible motivation for this is to make search results more relevant to the user. The *Topic-Sensitive PageRank* creates a vector for a set of topics with the goal of giving bias to these topics.  Obviously, the ideal case would be to create one vector per user, but this is simply not possible. Having vectors for only a number of topics, while more limited, can still provide more relevant search results.\n",
    "\n",
    "Deciding on the topic set is the first step in implementing Topic-Sensitive PageRank.  One such possible set is the top-level categories of the [Open Directory](https://dmoz-odp.org/): Arts, Business, Computers, etc."
   ]
  },
  {
   "cell_type": "markdown",
   "metadata": {},
   "source": [
    "We have saved the functions we have defined in the previous sections in a module called $linkana$. We import that module below, together with `numpy`."
   ]
  },
  {
   "cell_type": "code",
   "execution_count": 1,
   "metadata": {},
   "outputs": [],
   "source": [
    "import numpy as np\n",
    "import linkana"
   ]
  },
  {
   "cell_type": "markdown",
   "metadata": {},
   "source": [
    "## Description"
   ]
  },
  {
   "cell_type": "markdown",
   "metadata": {},
   "source": [
    "The implementation of Topic-Sensitive PageRank is similar to the general PageRank, except that teleports only happen to a predefined **teleport set** consisting of pages from a specific topic. \n",
    "\n",
    "Given\n",
    "- $S$ -  the indices of the pages belonging to the teleport set\n",
    "- $|S|$ - the size of the teleport set\n",
    "- $\\textbf{e}_s$ - vector such that\n",
    "  \n",
    "    $\n",
    "        {\\large \\textbf{e}_{s_{i}}}=\\left\\{\n",
    "        \\begin{array}{@{}ll@{}}\n",
    "        1, & \\text{if } i \\text{ is in } S \\\\\n",
    "        0, & \\text{otherwise}\n",
    "        \\end{array}\\right.\n",
    "    $\n",
    "\n",
    "Then, the *topic-sensitive PageRank* for $S$ is the limit of the following iteration:\n",
    "\n",
    "   $$\n",
    "        \\textbf{v'}= \\beta M\\textbf{v} + (1-\\beta)\\textbf{e}_s/|S|\n",
    "   $$"
   ]
  },
  {
   "cell_type": "markdown",
   "metadata": {},
   "source": [
    "## Implementation"
   ]
  },
  {
   "cell_type": "markdown",
   "metadata": {},
   "source": [
    "We implement below the algorithm just described:"
   ]
  },
  {
   "cell_type": "code",
   "execution_count": 2,
   "metadata": {
    "scrolled": true
   },
   "outputs": [],
   "source": [
    "def topic_sensitive_page_rank(M, S, beta=0.8, tol=10**-6, max_iter=100):\n",
    "    \"\"\"Compute the topic-sensitive PageRank (with taxation) of a given Transition Matrix \n",
    "\n",
    "    Parameters\n",
    "    ----------\n",
    "    M : numpy array\n",
    "        Transition Matrix: Array of shape (n, n), where n is the number of nodes in the network\n",
    "    beta :  float\n",
    "        probability of following an outlink\n",
    "    S :  list\n",
    "        indices of pages belonging to the teleport set (indices start at 0)\n",
    "    tol : float\n",
    "        Tolerance: Iteration stops if the distance between previous and updated PageRank vectors \n",
    "        goes below this value\n",
    "    max_iter : integer\n",
    "        Maximum number of iterations\n",
    "    Returns\n",
    "    -------\n",
    "    v : numpy array\n",
    "        Vector of size n containing the PageRank values \n",
    "    \"\"\"\n",
    "    \n",
    "    n = M.shape[0]\n",
    "    e = np.zeros(n)\n",
    "    for i in S:\n",
    "        e[i] = 1\n",
    "        \n",
    "    v = np.ones(n)\n",
    "    delta = 1/tol # initialize to a large number\n",
    "    i = 0\n",
    "    while delta > tol:\n",
    "        i += 1\n",
    "        prev_v = v\n",
    "        v = beta*M.dot(v) + ((1-beta)/len(S))*e\n",
    "        delta = np.mean(np.abs(v-prev_v))\n",
    "        if i >= max_iter:\n",
    "            break        \n",
    "    return v"
   ]
  },
  {
   "cell_type": "markdown",
   "metadata": {},
   "source": [
    "To illustrate, recall Graph 1:"
   ]
  },
  {
   "cell_type": "code",
   "execution_count": 3,
   "metadata": {},
   "outputs": [
    {
     "data": {
      "image/png": "[encoded data removed]",
      "text/plain": [
       "<Figure size 432x288 with 1 Axes>"
      ]
     },
     "metadata": {},
     "output_type": "display_data"
    }
   ],
   "source": [
    "import networkx as nx\n",
    "import matplotlib.pyplot as plt\n",
    "\n",
    "G1 = nx.DiGraph()\n",
    "G1.add_nodes_from([\"A\",\"B\",\"C\",\"D\",\"E\"])\n",
    "G1.add_edges_from([\n",
    "    (\"A\",\"B\"), (\"A\",\"C\"), (\"A\",\"D\"), (\"A\",\"E\"), \n",
    "    (\"B\",\"A\"), (\"B\",\"D\"), \n",
    "    (\"C\",\"A\"),    \n",
    "    (\"D\",\"B\"), (\"D\",\"C\"),\n",
    "    (\"E\",\"B\"),\n",
    "])\n",
    "\n",
    "plt.figure()  \n",
    "plt.title(\"Graph 1. A Graph as a hypothetical representation of the web\")\n",
    "nx.draw(G1, node_size=500, node_color='orange', with_labels=True, font_weight='bold', arrowsize=20)\n",
    "plt.tight_layout()\n",
    "plt.show()"
   ]
  },
  {
   "cell_type": "markdown",
   "metadata": {},
   "source": [
    "Assuming that pages B and D are our teleport set, we can implement the Topic-Sensitive PageRank in Graph1 as follows:"
   ]
  },
  {
   "cell_type": "code",
   "execution_count": 4,
   "metadata": {},
   "outputs": [
    {
     "data": {
      "text/plain": [
       "array([0.24028021, 0.29252947, 0.15408413, 0.26506858, 0.04805632])"
      ]
     },
     "execution_count": 4,
     "metadata": {},
     "output_type": "execute_result"
    }
   ],
   "source": [
    "S = [1,3]\n",
    "M = linkana.transition_matrix(G1)\n",
    "topic_sensitive_page_rank(M,S)"
   ]
  },
  {
   "cell_type": "markdown",
   "metadata": {},
   "source": [
    "##  Using Topic-Sensitive PageRank in a search engine\n",
    "Topic-Sensitive PageRank can be used by a search engine following the steps below:\n",
    "1. Choose a set of topics\n",
    "2. Decide on a teleport set for each topic\n",
    "3. Given a query, find the most relevant topic\n",
    "4. Use the corresponding teleport set in calculating the topic-sensitive PageRank"
   ]
  },
  {
   "cell_type": "markdown",
   "metadata": {},
   "source": [
    "# Link Spam"
   ]
  },
  {
   "cell_type": "markdown",
   "metadata": {},
   "source": [
    "When it became obvious that *term spam* was no longer working well with search algorithms such as PageRank, malevolent people found yet another way to fool the PageRank algorithm into wrongly assessing the importance of their pages according to their purposes. In this section, we will look at this new technique called **link spam** and how it can be countered."
   ]
  },
  {
   "cell_type": "markdown",
   "metadata": {},
   "source": [
    "Figure 7 below shows how a *spam farm* operates to drive traffic to a target page. "
   ]
  },
  {
   "cell_type": "markdown",
   "metadata": {},
   "source": [
    "<img src='images/SpamFarm.PNG' width='450px'></img>\n",
    "<center><b>Figure 1. Spam Farm architechture</b></center>\n",
    "<center><small>Image adapted from Leskovec, Rajaraman, and Ullman. Mining of Massive Datasets, 2019.</small></center>"
   ]
  },
  {
   "cell_type": "markdown",
   "metadata": {},
   "source": [
    "Examples of accessible pages are blogs, newspapers or other sites where people can leave comments like “That's nice! I also wrote about it in my blog at hiddenSpamFarm.com.\""
   ]
  },
  {
   "cell_type": "markdown",
   "metadata": {},
   "source": [
    "**PageRank increase contributed by Link Spam** "
   ]
  },
  {
   "cell_type": "markdown",
   "metadata": {},
   "source": [
    "As discussed by Leskovec et al., in their book Mining of massive datasets (http://www.mmds.org/), it can be shown that:\n",
    "\n",
    "Given\n",
    "* $n$ - total number of pages in the Web\n",
    "* $x$ - PageRank contributed by accessible pages\n",
    "* $m$ - own/supporting pages in the spam farm\n",
    "* $y$ - PageRank of the target page\n",
    "\n",
    "    $\\large {  y = a x + c \\frac{m}{n}  }$\n",
    "\n",
    "where \n",
    "* $a =1/({1-\\beta^2}$)\n",
    "* $c = \\beta/(1+\\beta)$ "
   ]
  },
  {
   "cell_type": "markdown",
   "metadata": {},
   "source": [
    "In the formulas above, $a$ represents the contribution of the accessible pages to the target page's PageRank, while $c$ represents the PageRank contributed by the spam farm, expressed as a ratio of the number of pages in the spam farm to the total number of pages in the enitre web."
   ]
  },
  {
   "cell_type": "markdown",
   "metadata": {},
   "source": [
    "Let's compute the values of $a$ and $c$ assuming that  $\\beta$=0.8."
   ]
  },
  {
   "cell_type": "code",
   "execution_count": 5,
   "metadata": {},
   "outputs": [
    {
     "data": {
      "text/plain": [
       "(2.7777777777777786, 0.4444444444444445)"
      ]
     },
     "execution_count": 5,
     "metadata": {},
     "output_type": "execute_result"
    }
   ],
   "source": [
    "beta = 0.8\n",
    "a = 1/(1-beta**2)\n",
    "c = beta/(1+beta)\n",
    "a, c"
   ]
  },
  {
   "cell_type": "markdown",
   "metadata": {},
   "source": [
    "In the next subsections, we will discuss two possible ways of combating Link Spam: *TrustRank* and *Spam Mass*. "
   ]
  },
  {
   "cell_type": "markdown",
   "metadata": {},
   "source": [
    "# TrustRank"
   ]
  },
  {
   "cell_type": "markdown",
   "metadata": {},
   "source": [
    "*TrustRank* is a variation of the Topic-Sensitive PageRank where the *'topic'* that defines the teleport set is a set of pages that are believed to be trustworthy. \n",
    "\n",
    "A feasible way of selecting the trustworthy pages is to pick a domain whose membership is controlled. Examples are `.edu`, `.gov`, `.mil`."
   ]
  },
  {
   "cell_type": "markdown",
   "metadata": {},
   "source": [
    "# Spam Mass"
   ]
  },
  {
   "cell_type": "markdown",
   "metadata": {},
   "source": [
    "The idea of Spam Mass is to deduct PageRank scores from pages which are considered spam. This can be done by calculating both the PageRank score and the TrustRank score. \n",
    "\n",
    "Given \n",
    "* $r$ - PageRank of a page\n",
    "* $t$ - TrustRank of the same page\n",
    "\n",
    "The page's spam mass $p$ is calculated as follows:\n",
    "\n",
    "$$ p = (r-t)/r $$"
   ]
  },
  {
   "cell_type": "markdown",
   "metadata": {},
   "source": [
    "Below is an implementation of spam mass which calls the `idealized_page_rank` and `topic_sensitive_page_rank` functions from our `linkana` module."
   ]
  },
  {
   "cell_type": "code",
   "execution_count": 6,
   "metadata": {},
   "outputs": [],
   "source": [
    "def spam_mass(M, S, beta=0.8, tol=10**-6, max_iter=100):\n",
    "    \"\"\"Compute the spam mass given a set of trustworthy pages\n",
    "\n",
    "    Parameters\n",
    "    ----------\n",
    "    M : numpy array\n",
    "        Transition Matrix: Array of shape (n, n), where n is the number of nodes in the network\n",
    "    beta :  float\n",
    "        probability of following an outlink; passed to page_rank_ts\n",
    "    S :  list\n",
    "        indices of trustworthy pages (indices start at 0)\n",
    "    tol : float\n",
    "        Tolerance: Iteration stops if the distance between previous and updated PageRank vectors \n",
    "        goes below this value\n",
    "    max_iter : integer\n",
    "        Maximum number of iterations\n",
    "    Returns\n",
    "    -------\n",
    "    p : numpy array\n",
    "        Vector containing the spam mass \n",
    "    \"\"\"\n",
    "    r = linkana.idealized_page_rank(M, tol=tol, max_iter=max_iter)\n",
    "    t = linkana.topic_sensitive_page_rank(M, S=S, beta=beta, tol=tol, max_iter=max_iter)\n",
    "    p = (r-t)/r\n",
    "    return p"
   ]
  },
  {
   "cell_type": "markdown",
   "metadata": {},
   "source": [
    "Let's check the spam mass of Graph1 if nodes B and D are in the teleport set."
   ]
  },
  {
   "cell_type": "code",
   "execution_count": 7,
   "metadata": {
    "scrolled": true
   },
   "outputs": [
    {
     "data": {
      "text/plain": [
       "array([ 0.19906599, -0.17011728,  0.11951934, -0.32534358,  0.35924862])"
      ]
     },
     "execution_count": 7,
     "metadata": {},
     "output_type": "execute_result"
    }
   ],
   "source": [
    "spam_mass(M, [1, 3])"
   ]
  },
  {
   "cell_type": "markdown",
   "metadata": {},
   "source": [
    "**REFERENCE**\n",
    "\n",
    "* Jure Leskovec, Anand Rajaraman, and Jeffrey D Ullman. Mining of massive datasets, chapter 5. Cambridge University Press, 3rd edition, 2019. http://www.mmds.org/. All figures, except Figure 2, were cropped from this book. Figure 2 was adapted from the presentation slides made available by the authors of the same book."
   ]
  }
 ],
 "metadata": {
  "kernelspec": {
   "display_name": "Python [conda env:.conda-dla2]",
   "language": "python",
   "name": "conda-env-.conda-dla2-py"
  },
  "language_info": {
   "codemirror_mode": {
    "name": "ipython",
    "version": 3
   },
   "file_extension": ".py",
   "mimetype": "text/x-python",
   "name": "python",
   "nbconvert_exporter": "python",
   "pygments_lexer": "ipython3",
   "version": "3.9.6"
  },
  "toc": {
   "base_numbering": 1,
   "nav_menu": {},
   "number_sections": true,
   "sideBar": true,
   "skip_h1_title": false,
   "title_cell": "Table of Contents",
   "title_sidebar": "Contents",
   "toc_cell": false,
   "toc_position": {
    "height": "calc(100% - 180px)",
    "left": "10px",
    "top": "150px",
    "width": "294.188px"
   },
   "toc_section_display": true,
   "toc_window_display": true
  }
 },
 "nbformat": 4,
 "nbformat_minor": 4
}
