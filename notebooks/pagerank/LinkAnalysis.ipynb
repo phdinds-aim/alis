{
 "cells": [
  {
   "cell_type": "markdown",
   "metadata": {},
   "source": [
    "# Introduction"
   ]
  },
  {
   "cell_type": "markdown",
   "metadata": {},
   "source": [
    "As the internet gained popularity and more and more web sites and web pages are created, the importance of efficient internet search engines to find relevant information also became apparent.  Several search engines were developed but Google's PageRank algorithm had the greatest impact because it gave fast results and was the first to defeat spammers. In this presentation, we will take a look at Google's PageRank algorithm and its efficient computation, as well as the tactics employed by spammers to direct search results to their target pages, and the methods to counter them. \n",
    "\n",
    "We will make use of a python module called $linkan$ to illustrate the ideas presented in this section. Let us import that module together with other basic python modules before proceeding."
   ]
  },
  {
   "cell_type": "code",
   "execution_count": 101,
   "metadata": {},
   "outputs": [],
   "source": [
    "import numpy as np\n",
    "import linkan  "
   ]
  },
  {
   "cell_type": "markdown",
   "metadata": {},
   "source": [
    "# PageRank"
   ]
  },
  {
   "cell_type": "markdown",
   "metadata": {},
   "source": [
    "## History "
   ]
  },
  {
   "cell_type": "markdown",
   "metadata": {},
   "source": [
    "### Early Search Engines"
   ]
  },
  {
   "cell_type": "markdown",
   "metadata": {},
   "source": [
    "Early approaches to search engines involved crawling web pages and then listing terms that appeared and storing them in an *inverted index*, a data structure that allows locating all places *pointed to* by a term. \n",
    "\n",
    "When a *search query* is given:\n",
    "* terms are extracted from the search query\n",
    "* pages are pointed to by the terms are retrieved\n",
    "* pages are ranked according to\n",
    "    * how the terms were used in the page (e.g. terms appearing in headers have more importance)\n",
    "    * how frequent those terms appeared in the page"
   ]
  },
  {
   "cell_type": "markdown",
   "metadata": {},
   "source": [
    "### Term Spam"
   ]
  },
  {
   "cell_type": "markdown",
   "metadata": {},
   "source": [
    "Some unethical people saw the opportunity of fooling search engines to direct users to their site (a sort of free advertisement).  For example, if they want to direct users searching for 'movie' to their site, they would do the following:\n",
    "* Add a *lot* of occurances of the term 'movie' to their site (with font color similar to page's background to hide the text)\n",
    "* Do a search for *movie* and copy contents of the highest-ranked page (again, using the \"invisible text\" approach above).\n",
    "This technique for fooling a search engine into believing that a page is something that it is not is called *term spam*."
   ]
  },
  {
   "cell_type": "markdown",
   "metadata": {},
   "source": [
    "## Introducing Page Rank"
   ]
  },
  {
   "cell_type": "markdown",
   "metadata": {},
   "source": [
    "To combat term spam, Google introduced two innovations\n",
    "* They introduced PageRank to assess the importance of pages\n",
    "    - A simulation of Web surfers, starting at a random page, randomly following outlinks in each page they visit. Process iterates many times. \n",
    "    - The pages visited more often by the surfers are considered more important\n",
    "* Pages were judged not only by the terms that appeared in them, but by the *terms used in the link* (the anchor text), and the terms near the links to that page."
   ]
  },
  {
   "cell_type": "markdown",
   "metadata": {},
   "source": [
    "## Graph Notations"
   ]
  },
  {
   "cell_type": "markdown",
   "metadata": {},
   "source": [
    "To illustrate how PageRank and other Link Analysis algorithms work, it is useful to think of the Web as a directed graph with the following characteristics:\n",
    "* **nodes** represent pages\n",
    "* **arcs** represent links from one page to another "
   ]
  },
  {
   "cell_type": "markdown",
   "metadata": {},
   "source": [
    "### Defining and Displaying Graphs with NetworkX"
   ]
  },
  {
   "cell_type": "markdown",
   "metadata": {},
   "source": [
    "A useful package for defining and displaying graphs in python is NetworkX. Below is an illustration of how we create a directed graph by defining the graph's nodes and edges. We then show the graph with a call to the `draw` command."
   ]
  },
  {
   "cell_type": "code",
   "execution_count": 102,
   "metadata": {},
   "outputs": [
    {
     "data": {
      "image/png": "[encoded data removed]",
      "text/plain": [
       "<Figure size 432x288 with 1 Axes>"
      ]
     },
     "metadata": {},
     "output_type": "display_data"
    }
   ],
   "source": [
    "import networkx as nx\n",
    "import matplotlib.pyplot as plt\n",
    "\n",
    "G1 = nx.DiGraph()\n",
    "G1.add_nodes_from([\"A\",\"B\",\"C\",\"D\"])\n",
    "G1.add_edges_from([\n",
    "    (\"A\",\"B\"), (\"A\",\"C\"), (\"A\",\"D\"), \n",
    "    (\"B\",\"A\"), (\"B\",\"D\"),\n",
    "    (\"C\",\"A\"),    \n",
    "    (\"D\",\"B\"), (\"D\",\"C\")\n",
    "])\n",
    "\n",
    "plt.figure()  \n",
    "plt.title(\"Graph 1. A Graph as a hypothetical representation of the web\")\n",
    "nx.draw(G1, node_size=500, node_color='orange', with_labels=True, font_weight='bold', arrowsize=20)\n",
    "plt.tight_layout()\n",
    "plt.show()"
   ]
  },
  {
   "cell_type": "markdown",
   "metadata": {},
   "source": [
    "### Adjacency Matrix"
   ]
  },
  {
   "cell_type": "markdown",
   "metadata": {},
   "source": [
    "The **Adjacency Matrix** is a representation showing which vertices are adjacent, i.e., connected by edges or links. Formally, if $A$ is the adjacency matrix of a graph $G$, and $a_{ij}$ are the elements of $A$, \n",
    "$a_{ij}=1$ if there is a link from node $i$ to node $j$, otherwise, $a_{ij}=0$.\n",
    "\n",
    "In the discussion later on Hubs and Authorities, this matrix will also be known as the **Link Matrix**. It represents the existence of outgoing links from one page to another.\n",
    "\n",
    "In NetworkX, the adjacency matrix can be computed using the `adjacency_matrix` function. This produces a sparse matrix. We can convert this to a dense matrix by calling the `toarray` method."
   ]
  },
  {
   "cell_type": "code",
   "execution_count": 103,
   "metadata": {},
   "outputs": [
    {
     "data": {
      "text/plain": [
       "array([[0, 1, 1, 1],\n",
       "       [1, 0, 0, 1],\n",
       "       [1, 0, 0, 0],\n",
       "       [0, 1, 1, 0]])"
      ]
     },
     "execution_count": 103,
     "metadata": {},
     "output_type": "execute_result"
    }
   ],
   "source": [
    "A = nx.adjacency_matrix(G1).toarray()\n",
    "A"
   ]
  },
  {
   "cell_type": "markdown",
   "metadata": {},
   "source": [
    "### Transition Matrix"
   ]
  },
  {
   "cell_type": "markdown",
   "metadata": {},
   "source": [
    "In the computation of PageRank, an important data structure is the **Transition Matrix**."
   ]
  },
  {
   "cell_type": "markdown",
   "metadata": {},
   "source": [
    "Recall the idea of a surfer randomly browsing through the Web. Given graph $G1$, our hypothetical representation of the Web in Figure 1, if the surfer is at page A, the following are the probabilities of the next page he will visit:\n",
    "* page A: 0\n",
    "* page B: 1/3\n",
    "* page C: 1/3\n",
    "* page D: 1/3"
   ]
  },
  {
   "cell_type": "markdown",
   "metadata": {},
   "source": [
    "We can do the same for all other nodes and define a *Transition Matrix* to represent the the probabilities of where this surfer would go next, for any starting location in the Web. "
   ]
  },
  {
   "cell_type": "markdown",
   "metadata": {},
   "source": [
    "To generate the Transition Matrix from a graph, we will need the *transpose* of its Adjacency Matrix as well as a vector of its out degrees (the number of links coming out from a node or page) . We have already computed for $G1$'s adjacency matrix and stored it in $A$; to get the outlinks of the nodes, we can use the graph's `out_degree` method: "
   ]
  },
  {
   "cell_type": "code",
   "execution_count": 104,
   "metadata": {},
   "outputs": [
    {
     "data": {
      "text/plain": [
       "OutDegreeView({'A': 3, 'B': 2, 'C': 1, 'D': 2})"
      ]
     },
     "execution_count": 104,
     "metadata": {},
     "output_type": "execute_result"
    }
   ],
   "source": [
    "G1.out_degree"
   ]
  },
  {
   "cell_type": "markdown",
   "metadata": {},
   "source": [
    "We then convert this into an numpy array, getting only the values of the outdegrees:"
   ]
  },
  {
   "cell_type": "code",
   "execution_count": 105,
   "metadata": {},
   "outputs": [
    {
     "data": {
      "text/plain": [
       "array([3, 2, 1, 2])"
      ]
     },
     "execution_count": 105,
     "metadata": {},
     "output_type": "execute_result"
    }
   ],
   "source": [
    "d = np.array([x[1] for x in list(G1.out_degree)])\n",
    "d"
   ]
  },
  {
   "cell_type": "markdown",
   "metadata": {},
   "source": [
    "Now we can compute the Transition matrix:"
   ]
  },
  {
   "cell_type": "code",
   "execution_count": 106,
   "metadata": {},
   "outputs": [
    {
     "data": {
      "text/plain": [
       "array([[0.        , 0.5       , 1.        , 0.        ],\n",
       "       [0.33333333, 0.        , 0.        , 0.5       ],\n",
       "       [0.33333333, 0.        , 0.        , 0.5       ],\n",
       "       [0.33333333, 0.5       , 0.        , 0.        ]])"
      ]
     },
     "execution_count": 106,
     "metadata": {},
     "output_type": "execute_result"
    }
   ],
   "source": [
    "M = A.T * (1/d)\n",
    "M"
   ]
  },
  {
   "cell_type": "code",
   "execution_count": 107,
   "metadata": {},
   "outputs": [],
   "source": [
    "def transition_matrix_beta(G):\n",
    "    \"\"\"\n",
    "    Compute the Transition Matrix given a NetworkX graph\n",
    "    This version cannot handle dead-ends, i.e., nodes without outlinks,\n",
    "    hence it's called beta\n",
    "    \n",
    "    Parameters\n",
    "    ----------\n",
    "    G : NetworkX graph\n",
    "        Graph to extract the transition matrix\n",
    "    Returns\n",
    "    -------\n",
    "    M : numpy array\n",
    "        Numpy array of the transition matrix of G\n",
    "    \"\"\"        \n",
    "    A = nx.adjacency_matrix(G).toarray()\n",
    "    d = np.array([x[1] for x in list(G.out_degree)])\n",
    "    M = A.T * (1/d)\n",
    "    return M"
   ]
  },
  {
   "cell_type": "markdown",
   "metadata": {},
   "source": [
    "The transition matrix could now be computed from a NetworkX graph as follows:"
   ]
  },
  {
   "cell_type": "code",
   "execution_count": 108,
   "metadata": {},
   "outputs": [
    {
     "data": {
      "text/plain": [
       "array([[0.        , 0.5       , 1.        , 0.        ],\n",
       "       [0.33333333, 0.        , 0.        , 0.5       ],\n",
       "       [0.33333333, 0.        , 0.        , 0.5       ],\n",
       "       [0.33333333, 0.5       , 0.        , 0.        ]])"
      ]
     },
     "execution_count": 108,
     "metadata": {},
     "output_type": "execute_result"
    }
   ],
   "source": [
    "transition_matrix_beta(G1)"
   ]
  },
  {
   "cell_type": "markdown",
   "metadata": {},
   "source": [
    "This matrix $M$ represents the transition matrix of $G1$, with the indices for nodes A, B, C, D being 0,1,2,3, respectively."
   ]
  },
  {
   "cell_type": "markdown",
   "metadata": {},
   "source": [
    "## PageRank Computation"
   ]
  },
  {
   "cell_type": "markdown",
   "metadata": {},
   "source": [
    "PageRank is a function that assigns a real number to a page in the Web, reflecting the page's importance. There are variations in the algorithms that compute the PageRank. We will tackle a few of them in the succeeding sections. \n",
    "\n",
    "Formally, if $m_{ij}$ are the elements of $M$, and node $j$ has $d$ outgoing links, we set $m_{ij}$ to $1/d$ if there is a link from page $j$ to page $i$, otherwise, we set it to 0. From this, we get that the $j$th column represents the transition probability distribution for a surfer who is at node $j$. This matrix is the **idealized PageRank**. Note that the sum of each column is exactly 1. Such a matrix where each column sums up to one is said to be *stochastic*."
   ]
  },
  {
   "cell_type": "markdown",
   "metadata": {},
   "source": [
    "To compute the actual PageRank, we have to iterate the surfing process.\n",
    "* Surfer starts at any location in the web with equal probability. Let's represent this as $\\textbf{v}^{(0)}$.\n",
    "* After one step, the distribution of the surfer will be $\\textbf{v}^{(1)}$ = $M \\textbf{v}^{(0)}$\n",
    "* After two steps, the distribution of the surfer will be $\\textbf{v}^{(2)}$ = $M\\textbf{v}^{(1)}$ =  $M(M \\textbf{v}^{(0)})$ = $M^{2}  \\textbf{v}^{(0)}  $  \n",
    "\n",
    "Figure 2 below illustrates how $\\textbf{v}$ is updated for one iteration, showing that the updated value of $\\textbf{v}$ gives the new probability distribution  for all the nodes."
   ]
  },
  {
   "cell_type": "markdown",
   "metadata": {},
   "source": [
    "<img src='images/PageRankUpdate.PNG' style=\"width: 450px\"></img>\n",
    "<center><b>Figure 2. One iteration/update of PageRank Algorithm</b></center>"
   ]
  },
  {
   "cell_type": "markdown",
   "metadata": {},
   "source": [
    "We can thus formulate an update rule $\\textbf{v}^{(i+1)} = M\\textbf{v}^{(i)}$, which is an example of a *Markov process*.  It is known that such a process will stabilize at $\\textbf{v} = M\\textbf{v}$ if the following conditions are met:\n",
    "1. The graph is strongly connected\n",
    "2. There are no dead ends"
   ]
  },
  {
   "cell_type": "markdown",
   "metadata": {},
   "source": [
    "From the above, we observe that stability can be reached if $M\\textbf{v}$ no longer updates $\\textbf{v}$. \n",
    "\n",
    "This $\\textbf{v}$ is, in fact, the an *eigenvector* of $M$. Recall:\n",
    "An *eigenvector* of a matrix $M$ is a vector $\\textbf{v}$ that satisfies\n",
    "$$ \\textbf{v}= \\lambda M \\textbf{v} $$\n",
    "where $\\lambda$ is some constant known as the *eigenvalue*.\n",
    "\n",
    "Since $M$ is stochastic, we can further say that $\\textbf{v}$ is the principal eigenvector of $M$ and $\\lambda =1$."
   ]
  },
  {
   "cell_type": "markdown",
   "metadata": {},
   "source": [
    "From this, we can say that the principal eigenvector of $M$  gives us the probability distribution of where (at which page) a random surfer would most likely be after a long time. Thus,the principal eigenvector actually gives us the PageRank of each page. "
   ]
  },
  {
   "cell_type": "markdown",
   "metadata": {},
   "source": [
    "## Iterative Method for Computing PageRank"
   ]
  },
  {
   "cell_type": "markdown",
   "metadata": {},
   "source": [
    "Here, we summarize the process of computing the PageRank known as the *Power Iteration Method*. Given $n$ pages/nodes:\n",
    "1. Create the characteristic matrix $M$  (size $nxn$), whose elements $m_{ij}$ are defined as follows:\n",
    " \n",
    "    $\n",
    "        m_{ij}=\\left\\{\n",
    "        \\begin{array}{@{}ll@{}}\n",
    "        1/d, & \\text{if there is a link from page } j \\text{ to } i \\text{ and page } j \\text{ has } d \\text{ outlinks}\\\\\n",
    "        0, & \\text{otherwise}\n",
    "        \\end{array}\\right.\n",
    "    $\n",
    "\n",
    "\n",
    "2. Initialize $\\textbf{v}^{(0)}$ \n",
    "\n",
    "    $\n",
    "        \\textbf{v}^{(0)}_{i} = 1/n \\text{, for all } i \n",
    "    $\n",
    "\n",
    "\n",
    "3. Iteratively update $\\textbf{v}$ \n",
    "\n",
    "    $\n",
    "    \\textbf{v}^{(t+1)} = M\\textbf{v}^{(t)}\n",
    "    $\n",
    "\n",
    "\n",
    "4. Stop when $\\lvert \\textbf{v}^{(t+1)}-\\textbf{v}^{(t)} \\rvert < \\epsilon $."
   ]
  },
  {
   "cell_type": "markdown",
   "metadata": {},
   "source": [
    "### Power Iteration Method for Computing the Idealized PageRank"
   ]
  },
  {
   "cell_type": "markdown",
   "metadata": {},
   "source": [
    "To get a concrete idea how the algorithm works, below is a python implementation of the Idealized PageRank using the Power Iteration Method."
   ]
  },
  {
   "cell_type": "code",
   "execution_count": 31,
   "metadata": {
    "scrolled": true
   },
   "outputs": [],
   "source": [
    "def idealized_page_rank(M, tol=10**-6, max_iter=100):\n",
    "    \"\"\"\n",
    "    Compute the Idealized PageRank (without Taxation) of a given Transition Matrix    \n",
    "    \n",
    "    Parameters\n",
    "    ----------\n",
    "    M : numpy array\n",
    "        Transition Matrix: Array of shape (n, n), where n is the number of nodes in the network\n",
    "    tol : float\n",
    "        Tolerance: Iteration stops if the distance between previous and updated PageRank vectors \n",
    "        goes below this value\n",
    "    max_iter : integer\n",
    "        Maximum number of iterations\n",
    "    Returns\n",
    "    -------\n",
    "    v : numpy array\n",
    "        Vector of size n containing the ordinary PageRank values \n",
    "    \"\"\"    \n",
    "    n = M.shape[0]\n",
    "    v = np.ones(n)/n\n",
    "    delta = 1/tol  # initialize vector difference to a large number\n",
    "    i = 0\n",
    "    while delta > tol:\n",
    "        i += 1\n",
    "        prev_v = v\n",
    "        v = M.dot(v)\n",
    "        delta = np.sum(np.abs(v-prev_v)) # compute L1 norm\n",
    "        if i >= max_iter:\n",
    "            break\n",
    "    return v"
   ]
  },
  {
   "cell_type": "markdown",
   "metadata": {},
   "source": [
    "Applying function to the $G1$ in Figure 1, we get the following results."
   ]
  },
  {
   "cell_type": "code",
   "execution_count": 109,
   "metadata": {
    "scrolled": true
   },
   "outputs": [
    {
     "data": {
      "text/plain": [
       "array([0.33333349, 0.22222217, 0.22222217, 0.22222217])"
      ]
     },
     "execution_count": 109,
     "metadata": {},
     "output_type": "execute_result"
    }
   ],
   "source": [
    "M = transition_matrix(G1)\n",
    "idealized_page_rank(M)"
   ]
  },
  {
   "cell_type": "markdown",
   "metadata": {},
   "source": [
    "## Issues with PageRank"
   ]
  },
  {
   "cell_type": "markdown",
   "metadata": {},
   "source": [
    "In this subsection, we consider two issues that affect the computation of PageRank."
   ]
  },
  {
   "cell_type": "markdown",
   "metadata": {},
   "source": [
    "### Deadends"
   ]
  },
  {
   "cell_type": "markdown",
   "metadata": {},
   "source": [
    "First, let's take a look at *deadends*, pages with no outgoing links. The graph $G2$ below is the same as $G1$ except that the outgoing link from node C was removed."
   ]
  },
  {
   "cell_type": "code",
   "execution_count": 110,
   "metadata": {},
   "outputs": [
    {
     "data": {
      "image/png": "[encoded data removed]",
      "text/plain": [
       "<Figure size 432x288 with 1 Axes>"
      ]
     },
     "metadata": {},
     "output_type": "display_data"
    }
   ],
   "source": [
    "G2 = nx.DiGraph()\n",
    "G2.add_nodes_from([\"A\",\"B\",\"C\",\"D\"])\n",
    "# No outgoing link from node C\n",
    "G2.add_edges_from([\n",
    "    (\"A\",\"B\"), (\"A\",\"C\"), (\"A\",\"D\"), \n",
    "    (\"B\",\"A\"), (\"B\",\"D\"),\n",
    "    (\"D\",\"B\"), (\"D\",\"C\")\n",
    "])\n",
    "\n",
    "plt.figure()  \n",
    "plt.title(\"Graph 2. A network with a deadend (at node C).\")\n",
    "nx.draw(G2, node_size=500, node_color='orange', with_labels=True, font_weight='bold', arrowsize=20)\n",
    "plt.tight_layout()\n",
    "plt.show()"
   ]
  },
  {
   "cell_type": "markdown",
   "metadata": {},
   "source": [
    "Consider the graph bove.  Here we see that node C does not have any outgoing links, thus C is a deadend. The problem with deadends is that it is like a sink for infornation because while it 'absorbs' PageRank scores during the iterations: it does not pass them on to other nodes. As a result, some or all the components would eventually go to zero."
   ]
  },
  {
   "cell_type": "markdown",
   "metadata": {},
   "source": [
    "To see this effect, let us edit our `transition_matrix` function to handle nodes with zero degrees. The main problem is that a division by zero error could occur when we divide $A.T$ by $d$ if  $d$ has zero values. To address this, we just set the zero values of $d$ to 1. This will not affect the resulting matrix since the corresponding column in $A.T$ will all be zeros (recall that there are no outlinks for this node.)"
   ]
  },
  {
   "cell_type": "code",
   "execution_count": 28,
   "metadata": {},
   "outputs": [],
   "source": [
    "def transition_matrix(G):\n",
    "    \"\"\"\n",
    "    Compute the Transition Matrix given a NetworkX graph\n",
    "    \n",
    "    Parameters\n",
    "    ----------\n",
    "    G : NetworkX graph\n",
    "        Graph to extract the transition matrix\n",
    "    Returns\n",
    "    -------\n",
    "    M : numpy array\n",
    "        Numpy array of the transition matrix of G\n",
    "    \"\"\"        \n",
    "    A = nx.adjacency_matrix(G).toarray()\n",
    "    d = np.array([x[1] for x in list(G.out_degree)])\n",
    "    \n",
    "    # get indices with zero and replace them with 1 to avoid division by zero\n",
    "    # this won't affect the result since the corresponding column will have all zeros\n",
    "    d[d==0]=1\n",
    "    \n",
    "    M = A.T * (1/d)    \n",
    "    return M"
   ]
  },
  {
   "cell_type": "markdown",
   "metadata": {},
   "source": [
    "Let's now compute the transition matrix for Graph 2 and see what happens when we apply the Power Iteration Method."
   ]
  },
  {
   "cell_type": "code",
   "execution_count": 14,
   "metadata": {},
   "outputs": [
    {
     "data": {
      "text/plain": [
       "array([[0.        , 0.5       , 0.        , 0.        ],\n",
       "       [0.33333333, 0.        , 0.        , 0.5       ],\n",
       "       [0.33333333, 0.        , 0.        , 0.5       ],\n",
       "       [0.33333333, 0.5       , 0.        , 0.        ]])"
      ]
     },
     "execution_count": 14,
     "metadata": {},
     "output_type": "execute_result"
    }
   ],
   "source": [
    "M2 = transition_matrix(G2)\n",
    "M2"
   ]
  },
  {
   "cell_type": "markdown",
   "metadata": {},
   "source": [
    "First, we observe that the characteristic Matrix is no longer *stochastic* - the sum at column C is 0."
   ]
  },
  {
   "cell_type": "code",
   "execution_count": 15,
   "metadata": {},
   "outputs": [
    {
     "data": {
      "text/plain": [
       "array([1., 1., 0., 1.])"
      ]
     },
     "execution_count": 15,
     "metadata": {},
     "output_type": "execute_result"
    }
   ],
   "source": [
    "M2.sum(axis=0)"
   ]
  },
  {
   "cell_type": "code",
   "execution_count": 16,
   "metadata": {
    "scrolled": false
   },
   "outputs": [],
   "source": [
    "r = idealized_page_rank(M2)"
   ]
  },
  {
   "cell_type": "code",
   "execution_count": 17,
   "metadata": {},
   "outputs": [
    {
     "data": {
      "text/plain": [
       "array([0., 0., 0., 0.])"
      ]
     },
     "execution_count": 17,
     "metadata": {},
     "output_type": "execute_result"
    }
   ],
   "source": [
    "np.rint(r)"
   ]
  },
  {
   "cell_type": "markdown",
   "metadata": {},
   "source": [
    "We observe that the final values of all elements of $\\textbf{v}$ are 0."
   ]
  },
  {
   "cell_type": "markdown",
   "metadata": {},
   "source": [
    "### Spider Traps"
   ]
  },
  {
   "cell_type": "markdown",
   "metadata": {},
   "source": [
    "Another issue that PageRank algorithm has to face is the existence of spider traps. A spider trap is a set of nodes with no dead ends but no link out of the set of nodes comprising the spider trap. The effect on the PageRank algorithm is the opposite of deadends. Whereas in deadends information \"leaks out\" from the deadend, in the case of spider traps, they get accumulated.\n",
    "Graph 3 below is an example of a network with a 1-node spider trap."
   ]
  },
  {
   "cell_type": "code",
   "execution_count": 25,
   "metadata": {},
   "outputs": [
    {
     "data": {
      "image/png": "[encoded data removed]",
      "text/plain": [
       "<Figure size 432x288 with 1 Axes>"
      ]
     },
     "metadata": {},
     "output_type": "display_data"
    }
   ],
   "source": [
    "G3 = nx.DiGraph()\n",
    "G3.add_nodes_from([\"A\",\"B\",\"C\",\"D\"])\n",
    "# self-link at node C\n",
    "G3.add_edges_from([\n",
    "    (\"A\",\"B\"), (\"A\",\"C\"), (\"A\",\"D\"), \n",
    "    (\"B\",\"A\"), (\"B\",\"D\"),\n",
    "    (\"C\",\"C\"),\n",
    "    (\"D\",\"B\"), (\"D\",\"C\")\n",
    "])\n",
    "\n",
    "plt.figure()  \n",
    "plt.title(\"Graph 3. A network with a spider trap (at node C).\")\n",
    "pos = nx.circular_layout(G3)\n",
    "nx.draw(G3, pos, node_size=500, node_color='orange', with_labels=True, font_weight='bold', arrowsize=20)\n",
    "plt.tight_layout()\n",
    "plt.show()"
   ]
  },
  {
   "cell_type": "code",
   "execution_count": 29,
   "metadata": {},
   "outputs": [
    {
     "data": {
      "text/plain": [
       "array([[0.        , 0.5       , 0.        , 0.        ],\n",
       "       [0.33333333, 0.        , 0.        , 0.5       ],\n",
       "       [0.33333333, 0.        , 1.        , 0.5       ],\n",
       "       [0.33333333, 0.5       , 0.        , 0.        ]])"
      ]
     },
     "execution_count": 29,
     "metadata": {},
     "output_type": "execute_result"
    }
   ],
   "source": [
    "M3 = transition_matrix(G3)\n",
    "M3"
   ]
  },
  {
   "cell_type": "markdown",
   "metadata": {},
   "source": [
    "If we compute the PageRank, we'll notice that all the traffic goes to node C."
   ]
  },
  {
   "cell_type": "code",
   "execution_count": 30,
   "metadata": {
    "scrolled": true
   },
   "outputs": [
    {
     "data": {
      "text/plain": [
       "array([0., 0., 1., 0.])"
      ]
     },
     "execution_count": 30,
     "metadata": {},
     "output_type": "execute_result"
    }
   ],
   "source": [
    "r = idealized_page_rank(M3)\n",
    "np.rint(r)"
   ]
  },
  {
   "cell_type": "markdown",
   "metadata": {},
   "source": [
    "## PageRank with Taxation"
   ]
  },
  {
   "cell_type": "markdown",
   "metadata": {},
   "source": [
    "A solution to the two issues we mentioned above (deadends and spider traps) is to allow each random surfer to *teleport* with a small probability $\\beta$ rather than following an out-link in its current page. This method of random teleportation is called *taxation* in the textbook.\n",
    "\n",
    "If $\\textbf{e}$ is a vector of 1's of size $n$, The iteration step now becomes:\n",
    "\n",
    "$\n",
    "    \\textbf{v}^{(t+1)}= \\beta M\\textbf{v}^{(t)} + (1-\\beta)\\textbf{e}/n\n",
    "$\n",
    "\n"
   ]
  },
  {
   "cell_type": "markdown",
   "metadata": {},
   "source": [
    "$\\beta$ values are usually chosen in the range of 0.8 to 0.9. "
   ]
  },
  {
   "cell_type": "markdown",
   "metadata": {},
   "source": [
    "We create a taxed version of the PageRank below."
   ]
  },
  {
   "cell_type": "code",
   "execution_count": 71,
   "metadata": {
    "scrolled": true
   },
   "outputs": [],
   "source": [
    "def taxed_page_rank(M, beta=0.8, tol=10**-6, max_iter=100):\n",
    "    \"\"\"Compute the Taxed PageRank (without Taxation) of a given Transition Matrix    \n",
    "       Note that this not make use of `e` -- the vector of ones \n",
    "       since numpy's broadcasting takes care of properly computing a vector-constant addition\n",
    "    Parameters\n",
    "    ----------\n",
    "    M : numpy array\n",
    "        Transition Matrix: Array of shape (n, n), where n is the number of nodes in the network\n",
    "    tol : float\n",
    "        Tolerance: Iteration stops if the distance between previous and updated PageRank vectors \n",
    "        goes below this value\n",
    "    max_iter : integer\n",
    "        Maximum number of iterations\n",
    "    Returns\n",
    "    -------\n",
    "    v : numpy array\n",
    "        Vector of size n containing the ordinary PageRank values \n",
    "    \"\"\"    \n",
    "    n = M.shape[0]\n",
    "    v = np.ones(n)  \n",
    "    delta = 1/tol # initialize vector difference to a large number\n",
    "    i = 0\n",
    "    while delta > tol:\n",
    "        i += 1\n",
    "        prev_v = v\n",
    "        v = beta*M.dot(v) + ((1-beta)/n)  \n",
    "        delta = np.sum(np.abs(v-prev_v))  # compute L1 norm  \n",
    "        if i >= max_iter:\n",
    "            break\n",
    "    return v"
   ]
  },
  {
   "cell_type": "code",
   "execution_count": 72,
   "metadata": {},
   "outputs": [
    {
     "data": {
      "text/plain": [
       "array([0.10135135, 0.12837838, 0.64189189, 0.12837838])"
      ]
     },
     "execution_count": 72,
     "metadata": {},
     "output_type": "execute_result"
    }
   ],
   "source": [
    "np.array([15/148, 19/148, 95/148, 19/148])"
   ]
  },
  {
   "cell_type": "code",
   "execution_count": 73,
   "metadata": {},
   "outputs": [
    {
     "data": {
      "text/plain": [
       "array([0.10135135, 0.12837838, 0.64189557, 0.12837838])"
      ]
     },
     "execution_count": 73,
     "metadata": {},
     "output_type": "execute_result"
    }
   ],
   "source": [
    "M3 = transition_matrix(G3)\n",
    "taxed_page_rank(M3)"
   ]
  },
  {
   "cell_type": "markdown",
   "metadata": {},
   "source": [
    "## Using PageRank in Search Engine"
   ]
  },
  {
   "cell_type": "markdown",
   "metadata": {},
   "source": [
    "Google is said to use over 250 properties of pages from which the ranking is decided, among those properties, PageRank is among the important ones. Others are:\n",
    "- presence of search terms\n",
    "- where the search terms appear in the page (e.g. headers)\n",
    "- search terms appearing in pages that link to the page in question"
   ]
  },
  {
   "cell_type": "markdown",
   "metadata": {},
   "source": [
    "# Efficient Computation of PageRank"
   ]
  },
  {
   "cell_type": "markdown",
   "metadata": {},
   "source": [
    "## Motivation"
   ]
  },
  {
   "cell_type": "markdown",
   "metadata": {},
   "source": [
    "\"In practice, for the Web itself, 50–75 iterations are sufficient to converge to within the error limits of double-precision arithmetic.\" - Leskovec et al.\n",
    "\n",
    "In 2008, [Google said that it was indexing 1 trillion pages](https://googleblog.blogspot.com/2008/07/we-knew-web-was-big.html). and according to [this site](https://venturebeat.com/2013/03/01/how-google-searches-30-trillion-web-pages-100-billion-times-a-month/#:~:text=Google%20says%20that%20it%20stores,now%20at%20100%20million%20gigabytes.), the number of pages is now 30 trillion. Let's calculate the amount of memory needed to store the vector $\\textbf{v}$ for the 2008 reported value of Google of 1 trillion pages."
   ]
  },
  {
   "cell_type": "code",
   "execution_count": null,
   "metadata": {},
   "outputs": [],
   "source": [
    "n = 1*(10**12)      # 1 trillion pages\n",
    "bytes_per_float = 8      \n",
    "bytes_per_gig = 10**9\n",
    "n * bytes_per_float / bytes_per_gig"
   ]
  },
  {
   "cell_type": "markdown",
   "metadata": {},
   "source": [
    "Thus, the vector $\\textbf{v}$ is so large that it can't fit in memory; we can just imagine how large $M$ woul be. For this problem, performing MapReduce would definitely be beneficial. In fact, Google's original purpose for MapReduce is to calculate the matrix-vector multiplications needed in PageRank."
   ]
  },
  {
   "cell_type": "markdown",
   "metadata": {},
   "source": [
    "We present below two issues:\n",
    "\n",
    "1. The matrix $M$, is, in fact, very sparse. We can save a lot of space by storing only the nonzero elements.\n",
    "2. For some reason, we may opt to not use MapReduce, or, we wish to reduce the amount of data passed from Map tasks to Reduce tasks. \n",
    "\n",
    "Let's discuss the solutions to these two issues."
   ]
  },
  {
   "cell_type": "markdown",
   "metadata": {},
   "source": [
    "## Representing Transition Matrices"
   ]
  },
  {
   "cell_type": "markdown",
   "metadata": {},
   "source": [
    "Let us consider Graph 1 again. "
   ]
  },
  {
   "cell_type": "code",
   "execution_count": 39,
   "metadata": {},
   "outputs": [
    {
     "data": {
      "image/png": "[encoded data removed]",
      "text/plain": [
       "<Figure size 432x288 with 1 Axes>"
      ]
     },
     "metadata": {},
     "output_type": "display_data"
    }
   ],
   "source": [
    "plt.figure()  \n",
    "plt.title(\"Graph 1. A Graph as a hypothetical representation of the web\")\n",
    "nx.draw(G1, node_size=500, node_color='orange', with_labels=True, font_weight='bold', arrowsize=20)\n",
    "plt.tight_layout()\n",
    "plt.show()"
   ]
  },
  {
   "cell_type": "markdown",
   "metadata": {},
   "source": [
    "We can save on space by only representing the nonzero entries in the Transition Matrix. "
   ]
  },
  {
   "cell_type": "markdown",
   "metadata": {},
   "source": [
    "|Source|(Destination, Value)|\n",
    "|:--:|:--|\n",
    "|A| (B, 1/3), (C, 1/3), (D, 1/3)|\n",
    "|B| (A, 1/2), (D, 1/2)|\n",
    "|C| (A, 1)|\n",
    "|D| (B, 1/2), (C, 1/2)|"
   ]
  },
  {
   "cell_type": "markdown",
   "metadata": {},
   "source": [
    "However, we can actually go even further, by only representing the number of out-degrees from a node, and noting the other nodes to which it links. This works since we know that the probability of transitioning from one node to a node it connects to is the same (which is $1/\\text{out-degree}$). Working this way, allows us to use integers instead of floats for our representation of the Transition Matrix. "
   ]
  },
  {
   "cell_type": "markdown",
   "metadata": {},
   "source": [
    "|Source|Degree|Destination|\n",
    "|:--:|:--:|:--|\n",
    "|A|3|B, C, D|\n",
    "|B|2|A, D|\n",
    "|C|1|A|\n",
    "|D|2|B, C|"
   ]
  },
  {
   "cell_type": "markdown",
   "metadata": {},
   "source": [
    "## PageRank Implementation Using Map Reduce"
   ]
  },
  {
   "cell_type": "markdown",
   "metadata": {},
   "source": [
    "### Applying Map Reduce when  *v* fits in memory"
   ]
  },
  {
   "cell_type": "markdown",
   "metadata": {},
   "source": [
    "First, let's consider the naive case when $\\textbf{v}$ fits in the memory.\n",
    "\n",
    "Recall the update rule $\\textbf{v}^{(t+1)}= \\beta M\\textbf{v}^{(t)} + (1-\\beta)\\textbf{e}/n$. \n",
    "\n",
    "For simpler notation, let us render this as \n",
    "$\n",
    "\\textbf{v'}= \\beta M\\textbf{v} + (1-\\beta)\\textbf{e}/n\n",
    "$\n"
   ]
  },
  {
   "cell_type": "markdown",
   "metadata": {},
   "source": [
    "Recall that $\\beta$ is a constant and $\\textbf{e}$ is just a vector of 1's. Thus, the update rule above is equivalent to \n",
    "- Performing a matrix-vector multiplication ($M\\textbf{v}$)\n",
    "- Multiplying the result by a constant ($\\beta$)\n",
    "- Adding to the result another constant ($(1-\\beta)/n$)\n"
   ]
  },
  {
   "cell_type": "markdown",
   "metadata": {},
   "source": [
    "Thus, the focus of the MapReduce functions will be on the matrix-vector multiplication, and it can be described as follows:\n",
    "\n",
    "**Map function**: Produce key-value pair $(i, m_{ij}v_j)$ <br>\n",
    "**Reduce function**: Sum all values associated with a given key $i$, resulting in the pair $(i, x_i)$"
   ]
  },
  {
   "cell_type": "markdown",
   "metadata": {},
   "source": [
    "#### Pyspark Illustration"
   ]
  },
  {
   "cell_type": "markdown",
   "metadata": {},
   "source": [
    "Please refer to [PageRank_Using_MapReduce](PageRank_Using_MapReduce.ipynb) notebook for a discussion on the implementation of this procedure in pyspark. "
   ]
  },
  {
   "cell_type": "markdown",
   "metadata": {},
   "source": [
    "###  Applying Map Reduce when *v* does not fit in memory: Striping Approach"
   ]
  },
  {
   "cell_type": "markdown",
   "metadata": {},
   "source": [
    "As seen in the previous discussion, for Google's PageRank, $\\textbf{v}$ does not actually fit in memory. A solution to address this is **striping**.\n",
    "Here we divide the matrix $M$ into vertical stripes of equal length and similarly divide $\\textbf{v}$ into horizontal stripes of equivalent height as shown in Figure 5 below. The goal is to choose a stripe length small enough so that $\\textbf{v}$ could fit conveniently into the memory of one compute node."
   ]
  },
  {
   "cell_type": "markdown",
   "metadata": {},
   "source": [
    "<img src='images/StripingApproach.PNG' width='350px'></img>\n",
    "<center><b>Figure . Division of matrix and vector into 5 stripes</b></center>"
   ]
  },
  {
   "cell_type": "markdown",
   "metadata": {},
   "source": [
    "The MapReduce changes in the following way: Each Map task is assigned a chunk from one of the\n",
    "stripes of the matrix and gets the entire corresponding stripe of the vector. The Map and Reduce functions act exactly as previously described."
   ]
  },
  {
   "cell_type": "markdown",
   "metadata": {},
   "source": [
    "### Applying Map Reduce when *v* does not fit in memory: 'Blocking' Approach"
   ]
  },
  {
   "cell_type": "markdown",
   "metadata": {},
   "source": [
    "The striping method described above has the following issues:\n",
    "1. A vertical stripe of $M$ multiplied by a horizontal stripe of $\\textbf{v}$ actually produces a vector of the same size as $\\textbf{v}$. A problem happens this vector does not actually fit in memory.\n",
    "2. If we want to aggregate sums at the Map tasks before sending to the Reducer, the striping method will not be efficient since the product of the matrix and vector stripes affect all rows of the resulting vector $\\textbf{v'}$\n",
    "\n",
    "To circumvent this limitation is partition $M$ into $k x k$ blocks while the vector $\\textbf{v}$ is partitioned into $k$ stripes as shownin Figure 6 below. "
   ]
  },
  {
   "cell_type": "markdown",
   "metadata": {},
   "source": [
    "<img src='images/BlockingApproach.PNG' width='450px'></img>\n",
    "<center><b>Figure 6. Division of matrix and vector into 5 stripes</b></center>"
   ]
  },
  {
   "cell_type": "markdown",
   "metadata": {},
   "source": [
    "The MapReduce can be implemented thus:\n",
    "- There are $k^2$ Map tasks\n",
    "- Each Map task gets one square, say $M_{ij}$, and one stripe of the vector, say $\\textbf{v}_j$\n",
    "- For each Map task, add the terms with common keys before sending to the Reducer "
   ]
  },
  {
   "cell_type": "markdown",
   "metadata": {},
   "source": [
    "#### Advantage of this approach\n",
    "- As we process $M_{ij}$, we can keep both $\\textbf{v'}_i$ and $\\textbf{v}_j$ in memory \n",
    "    - Note that all terms generated from $M_{ij}$ and $\\textbf{v'}_j$ contribute only to $\\textbf{v'}_i$ and no other stripe of $\\textbf{v}$"
   ]
  },
  {
   "cell_type": "markdown",
   "metadata": {},
   "source": [
    "### Sparse Representation of the Blocks in the Transition Matrix"
   ]
  },
  {
   "cell_type": "markdown",
   "metadata": {},
   "source": [
    "Blocks can also be represented as sparse matrix. We do not expound on it here for conciseness. See Leskovec et al., section 5.2.4."
   ]
  },
  {
   "cell_type": "markdown",
   "metadata": {},
   "source": [
    "# Topic-Sensitive PageRank"
   ]
  },
  {
   "cell_type": "markdown",
   "metadata": {},
   "source": [
    "## Motivation"
   ]
  },
  {
   "cell_type": "markdown",
   "metadata": {},
   "source": [
    "The PageRank algorithm could be modified so that it can put more weight to certain pages depending on some topic. One possible motivation for this is to make search results more relevant to the user. The *Topic-Sensitive PageRank* creates a vector for a set of topics with the goal of giving bias to these topics.  Obviously, the ideal case would be to create one vector per user, but this is simply not possible. Having vectors for only a number of topics, while more limited, can still provide more relevant search results.\n",
    "\n",
    "Deciding on the topic set is the first step in implementing Topic-Sensitive PageRank.  One such possible set is the 15 top-level categories of the [Open Directory](https://dmoz-odp.org/): Arts, Business, Computers, etc."
   ]
  },
  {
   "cell_type": "markdown",
   "metadata": {},
   "source": [
    "## Implementation"
   ]
  },
  {
   "cell_type": "markdown",
   "metadata": {},
   "source": [
    "The implementation of Topic-Sensitive PageRank is similar to the general PageRank, except that teleports only happen to a predefined *teleport set* consisting of pages from a specific topic. \n",
    "\n",
    "Given\n",
    "- $S$ -  the indices of the pages belonging to the teleport set\n",
    "- $|S|$ - the size of the teleport set\n",
    "- $\\textbf{e}_s$ - vector such that\n",
    "  \n",
    "    $\n",
    "        {\\large \\textbf{e}_{s_{i}}}=\\left\\{\n",
    "        \\begin{array}{@{}ll@{}}\n",
    "        1, & \\text{if } i \\text{ is in } S \\\\\n",
    "        0, & \\text{otherwise}\n",
    "        \\end{array}\\right.\n",
    "    $\n",
    "\n",
    "Then, the *topic-sensitive PageRank* for $S$ is the limit of the following iteration:\n",
    "\n",
    "   $$\n",
    "        \\textbf{v'}= \\beta M\\textbf{v} + (1-\\beta)\\textbf{e}_s/|S|\n",
    "   $$"
   ]
  },
  {
   "cell_type": "markdown",
   "metadata": {},
   "source": [
    "<div class=\"alert alert-info\">\n",
    "    \n",
    "**Exercise 4:  Topic-Sensitive PageRank . [2 pts]**\n",
    "    \n",
    "Update the function in Exercise 3 to implement Topic-Sensitive PageRank. You may test your function with Nodes $B$ and $D$ belonging to the topic teleport set $S$.\n",
    "\n",
    "</div>"
   ]
  },
  {
   "cell_type": "code",
   "execution_count": 77,
   "metadata": {
    "scrolled": true
   },
   "outputs": [],
   "source": [
    "def personalized_page_rank(M, S, beta=0.8, tol=10**-6, max_iter=100):\n",
    "    \"\"\"Compute the personalized or topic-sensitive PageRank (with taxation) \n",
    "    of a given Transition Matrix \n",
    "\n",
    "    Parameters\n",
    "    ----------\n",
    "    M : numpy array\n",
    "        Transition Matrix: Array of shape (n, n), where n is the number of nodes in the network\n",
    "    beta :  float\n",
    "        probability of following an outlink\n",
    "    S :  list\n",
    "        indices of pages belonging to the teleport set (indices start at 0)\n",
    "    tol : float\n",
    "        Tolerance: Iteration stops if the distance between previous and updated PageRank vectors \n",
    "        goes below this value\n",
    "    max_iter : integer\n",
    "        Maximum number of iterations\n",
    "    Returns\n",
    "    -------\n",
    "    v : numpy array\n",
    "        Vector of size n containing the PageRank values \n",
    "    \"\"\"\n",
    "    \n",
    "    n = M.shape[0]\n",
    "    e = np.zeros(n)\n",
    "    for i in S:\n",
    "        e[i] = 1\n",
    "        \n",
    "    v = np.ones(n)\n",
    "    delta = 1/tol # initialize to a large number\n",
    "    i = 0\n",
    "    while delta > tol:\n",
    "        i += 1\n",
    "        prev_v = v\n",
    "        v = beta*M.dot(v) + ((1-beta)/len(S))*e\n",
    "        delta = np.mean(np.abs(v-prev_v))\n",
    "        if i >= max_iter:\n",
    "            break        \n",
    "    return v"
   ]
  },
  {
   "cell_type": "markdown",
   "metadata": {},
   "source": [
    "To illustrate, assuming that pages B and D are our teleport set, we can implement personalized PageRank in Graph1 as follows"
   ]
  },
  {
   "cell_type": "code",
   "execution_count": 78,
   "metadata": {},
   "outputs": [
    {
     "data": {
      "text/plain": [
       "array([0.25714753, 0.2809555 , 0.1809555 , 0.2809555 ])"
      ]
     },
     "execution_count": 78,
     "metadata": {},
     "output_type": "execute_result"
    }
   ],
   "source": [
    "S = [1,3]\n",
    "M = transition_matrix(G1)\n",
    "personalized_page_rank(M,S)"
   ]
  },
  {
   "cell_type": "markdown",
   "metadata": {},
   "source": [
    "##  Using Topic-Sensitive PageRank in a search engine\n",
    "1. Choose a set of topics\n",
    "2. Decide on a teleport set for each topic\n",
    "3. Given a query, find the most relevant topic\n",
    "4. Use the corresponding teleport set in calculating the topic-sensitive PageRank"
   ]
  },
  {
   "cell_type": "markdown",
   "metadata": {},
   "source": [
    "# Combating Link Spam"
   ]
  },
  {
   "cell_type": "markdown",
   "metadata": {},
   "source": [
    "When it became obvious that *term spam* was no longer working well with search algorithms such as PageRank, malevolent people found yet another way to fool the PageRank algorithm into wrongly assessing the importance of their pages according to their purposes. In this section, we will look at this new technique called *link spam* and how it can be countered."
   ]
  },
  {
   "cell_type": "markdown",
   "metadata": {},
   "source": [
    "## Link Spam"
   ]
  },
  {
   "cell_type": "markdown",
   "metadata": {},
   "source": [
    "Figure 7 below shows how a *spam farm* operates to drive traffic to a target page. "
   ]
  },
  {
   "cell_type": "markdown",
   "metadata": {},
   "source": [
    "<img src='images/LinkSpam.PNG' width='550px'></img>\n",
    "<center><b>Figure 7. Spam Farm architechture</b></center>\n",
    "<center><small>Image source: Leskovec, Rajaraman, and Ullman. Mining of Massive Datasets, 2019.</small></center>"
   ]
  },
  {
   "cell_type": "markdown",
   "metadata": {},
   "source": [
    "Examples of accessible pages are blogs, newspapers or other sites where people can leave comments like “I agree. \"Please see my article at mySpamFarm.com.\""
   ]
  },
  {
   "cell_type": "markdown",
   "metadata": {},
   "source": [
    "#### PageRank increase contributed by Link Spam"
   ]
  },
  {
   "cell_type": "markdown",
   "metadata": {},
   "source": [
    "Without going through the math, it can be shown that \n",
    "\n",
    "Given\n",
    "* $n$ - total number of pages in the Web\n",
    "* $x$ - PageRank contributed by accessible pages\n",
    "* $m$ - own/supporting pages in the spam farm\n",
    "* $y$ - the page rank of the target page\n",
    "\n",
    "    $\\large {  y = \\frac{x}{1-\\beta^2} + c \\frac{m}{n}  }$\n",
    "\n",
    "   where $c = \\beta/(1+\\beta) $"
   ]
  },
  {
   "cell_type": "markdown",
   "metadata": {},
   "source": [
    "Let's compute the values of the two terms in the RHS assuming that  $\\beta$=0.85."
   ]
  },
  {
   "cell_type": "code",
   "execution_count": 80,
   "metadata": {},
   "outputs": [
    {
     "data": {
      "text/plain": [
       "(0.2775000000000001, 0.45945945945945943)"
      ]
     },
     "execution_count": 80,
     "metadata": {},
     "output_type": "execute_result"
    }
   ],
   "source": [
    "beta = 0.85\n",
    "term1 = 1-beta**2\n",
    "term2 = beta/(1+beta)\n",
    "term1, term2"
   ]
  },
  {
   "cell_type": "markdown",
   "metadata": {},
   "source": [
    "There are two possible ways of combating Link Spam: *TrustRank* and *Spam Mass*. We discuss these next."
   ]
  },
  {
   "cell_type": "markdown",
   "metadata": {},
   "source": [
    "## TrustRank"
   ]
  },
  {
   "cell_type": "markdown",
   "metadata": {},
   "source": [
    "*TrustRank* is a variation of Topic-Sensitive PageRank where the 'topic' that defines the teleport set is a set of pages that are believed to be trustworthy. A feasible way of selecting the trustworthy pages is to pick a domain whose membership is controlled. Examples are `.edu`, `.gov`, `.mil`."
   ]
  },
  {
   "cell_type": "markdown",
   "metadata": {},
   "source": [
    "## Spam Mass"
   ]
  },
  {
   "cell_type": "markdown",
   "metadata": {},
   "source": [
    "The idea here is that we deduct PageRank scores coming from spam. We can do this by calculating both the PageRank score and the TrustRank score. \n",
    "\n",
    "Given \n",
    "* $r$ - PageRank of a page\n",
    "* $t$ - TrustRank of the same page\n",
    "\n",
    "The page's spam mass $p$ is calculated as follows:\n",
    "\n",
    "$$ p = (r-t)/r $$"
   ]
  },
  {
   "cell_type": "markdown",
   "metadata": {},
   "source": [
    "Below is an implementation of spam mass."
   ]
  },
  {
   "cell_type": "code",
   "execution_count": 85,
   "metadata": {},
   "outputs": [],
   "source": [
    "def spam_mass(M, S, beta=0.8, tol=10**-6, max_iter=100):\n",
    "    \"\"\"Compute the spam mass given a set of trustworthy pages\n",
    "\n",
    "    Parameters\n",
    "    ----------\n",
    "    M : numpy array\n",
    "        Transition Matrix: Array of shape (n, n), where n is the number of nodes in the network\n",
    "    beta :  float\n",
    "        probability of following an outlink; passed to page_rank_ts\n",
    "    S :  list\n",
    "        indices of trustworthy pages(indices start at 0)\n",
    "    tol : float\n",
    "        Tolerance: Iteration stops if the distance between previous and updated PageRank vectors \n",
    "        goes below this value\n",
    "    max_iter : integer\n",
    "        Maximum number of iterations\n",
    "    Returns\n",
    "    -------\n",
    "    p : numpy array\n",
    "        Vector containing the spam mass \n",
    "    \"\"\"\n",
    "    r = idealized_page_rank(M,tol=tol, max_iter=max_iter)\n",
    "    t = personalized_page_rank(M, S=S, beta=beta, tol=tol, max_iter=max_iter)\n",
    "    p = (r-t)/r\n",
    "    return p"
   ]
  },
  {
   "cell_type": "markdown",
   "metadata": {},
   "source": [
    "Let's check the spam mass of Graph1 if nodes B and D are in the teleport set."
   ]
  },
  {
   "cell_type": "code",
   "execution_count": 87,
   "metadata": {
    "scrolled": true
   },
   "outputs": [
    {
     "data": {
      "text/plain": [
       "array([ 0.22855777, -0.26430005,  0.18570006, -0.26430005])"
      ]
     },
     "execution_count": 87,
     "metadata": {},
     "output_type": "execute_result"
    }
   ],
   "source": [
    "spam_mass(M, [1, 3])"
   ]
  },
  {
   "cell_type": "markdown",
   "metadata": {},
   "source": [
    "# Hubs and Authorities"
   ]
  },
  {
   "cell_type": "markdown",
   "metadata": {},
   "source": [
    "Another method for analyzing the importance of web pages is *Hubs and Authorities*, also known as *HITS (Hyperlink-Induced Topic Search)*, proposed shortly after PageRank was implemented. This section describes how this method is implemented."
   ]
  },
  {
   "cell_type": "markdown",
   "metadata": {},
   "source": [
    "## Description of Hubs and Authorities"
   ]
  },
  {
   "cell_type": "markdown",
   "metadata": {},
   "source": [
    "While PageRank assesses the importance of pages in a somewhat one-directional way (via in-links to pages), the HITS methodology revolve around two notions of importance:\n",
    "\n",
    "1. *Authorities* - Pages are assessed as important because they *provide information* about a topic.\n",
    "2. *Hubs* - Pages are assessed as important because they tell *where to go* to get information about a topic.\n",
    "\n",
    "Just like PageRank, HITS makes use of links as a way of assessing the importance of pages. \n",
    "\n",
    "It does this in a recursive manner:\n",
    "- A page is a good **hub** if it **links to** good authorities\n",
    "- A page is a good **authority** if it is **linked by** good hubs"
   ]
  },
  {
   "cell_type": "markdown",
   "metadata": {},
   "source": [
    "***Discussion Question***\n",
    "- Identify pages that can be considered as examples of hubs and authorities"
   ]
  },
  {
   "cell_type": "markdown",
   "metadata": {},
   "source": [
    "## The Link Matrix"
   ]
  },
  {
   "cell_type": "markdown",
   "metadata": {},
   "source": [
    "The HITS algorithm also makes use of a matrix to compute the score of *'hubbiness'* or *authority* of pages. Let's assume that these scores are represented by the vectors $\\textbf{h}$ and $\\textbf{a}$.\n",
    "Further assume that $n$ is the number of pages in the network.\n",
    "\n",
    "To compute $\\textbf{h}$ and $\\textbf{a}$, we need a matrix to contain information about the links.\n",
    "For the HITS algorithm, this matrix is called the *link matrix* $L$, of size $n$ x $n$. \n",
    "\n",
    "If we denote the elements of $L$ as $\\ell_{ij}$, we have:"
   ]
  },
  {
   "cell_type": "markdown",
   "metadata": {},
   "source": [
    "$\n",
    "    \\ell_{ij}=\\left\\{\n",
    "    \\begin{array}{@{}ll@{}}\n",
    "    1, & \\text{if there is a link from page } i \\text{ to } j \\\\\n",
    "    0, & \\text{otherwise}\n",
    "    \\end{array}\\right.\n",
    "$\n"
   ]
  },
  {
   "cell_type": "markdown",
   "metadata": {},
   "source": [
    "Note that, compared to the Transition Matrix of PageRank, the *direction* for putting entries in the matrix is reversed, since for the transition matrix, the entries are defined according to links from **$j$ to $i$**. Aside from the matrix $L$, hits also makes use of its transpose, $L^T$. Note that $L^T$ is similar to the transition matrix, only that its entries are $1$ for instead of $1/n$ for the non-zero elements."
   ]
  },
  {
   "cell_type": "markdown",
   "metadata": {},
   "source": [
    "Given the earlier discussion on graph notations, we observe that the Link Matrix is actually nothing but the adjacency matrix of the graph."
   ]
  },
  {
   "cell_type": "code",
   "execution_count": 90,
   "metadata": {},
   "outputs": [
    {
     "data": {
      "image/png": "[encoded data removed]",
      "text/plain": [
       "<Figure size 432x288 with 1 Axes>"
      ]
     },
     "metadata": {},
     "output_type": "display_data"
    }
   ],
   "source": [
    "G4 = nx.DiGraph()\n",
    "G4.add_nodes_from([\"A\",\"B\",\"C\",\"D\",\"E\"])\n",
    "G4.add_edges_from([\n",
    "    (\"A\",\"B\"), (\"A\",\"C\"), (\"A\",\"D\"), \n",
    "    (\"B\",\"A\"), (\"B\",\"D\"),\n",
    "    (\"C\",\"E\"),    \n",
    "    (\"D\",\"B\"), (\"D\",\"C\")\n",
    "])\n",
    "\n",
    "plt.figure()  \n",
    "plt.title(\"Graph 4. A sample graph for illustrating the HITS algorithm\")\n",
    "nx.draw(G4, node_size=500, node_color='orange', with_labels=True, font_weight='bold', arrowsize=20)\n",
    "plt.tight_layout()\n",
    "plt.show()"
   ]
  },
  {
   "cell_type": "markdown",
   "metadata": {},
   "source": [
    "The link matrix or adjacency matrix of $G4$ is given by:"
   ]
  },
  {
   "cell_type": "code",
   "execution_count": 95,
   "metadata": {},
   "outputs": [
    {
     "data": {
      "text/plain": [
       "array([[0, 1, 1, 1, 0],\n",
       "       [1, 0, 0, 1, 0],\n",
       "       [0, 0, 0, 0, 1],\n",
       "       [0, 1, 1, 0, 0],\n",
       "       [0, 0, 0, 0, 0]])"
      ]
     },
     "execution_count": 95,
     "metadata": {},
     "output_type": "execute_result"
    }
   ],
   "source": [
    "nx.adjacency_matrix(G4).toarray()"
   ]
  },
  {
   "cell_type": "markdown",
   "metadata": {},
   "source": [
    "## Deriving the HITS update rule"
   ]
  },
  {
   "cell_type": "markdown",
   "metadata": {},
   "source": [
    "Recall in PageRank that the score of a page is distributed to its successors. In the case of HITS, the score passed to the successors. In order to prevent values from growing without bounds, the values are normally scaled so that the largest value of a component is 1. "
   ]
  },
  {
   "cell_type": "markdown",
   "metadata": {},
   "source": [
    "Given constants $\\lambda$ and $\\mu$ to represent the scaling factor, we can describe the iteration step for updating $\\textbf{h}$ and $\\textbf{a}$ as follows:\n",
    "* $\\textbf{h'}  = \\lambda L \\textbf{a} $\n",
    "* $\\textbf{a'}  = \\mu L^T \\textbf{h} $"
   ]
  },
  {
   "cell_type": "markdown",
   "metadata": {},
   "source": [
    "Since the hubbiness of a page is proportional to the authority of its *successors*, and the authority of a page is proportional to the hubbiness of its *predecessors*, we can actually compute for hubbiness independently, giving us a form that allows us to compute the two values independently.\n",
    "* $\\textbf{h'}  = \\lambda \\mu L L^{T} \\textbf{a} $\n",
    "* $\\textbf{a'}  = \\lambda \\mu L^T\n",
    "L \\textbf{h} $"
   ]
  },
  {
   "cell_type": "markdown",
   "metadata": {},
   "source": [
    "However, since $L L^{T}$ and $L^{T} L$ are not sparse, it is actually better to compute  $\\textbf{h}$ and $\\textbf{a}$ recursively. We outline method in the next subsection."
   ]
  },
  {
   "cell_type": "markdown",
   "metadata": {},
   "source": [
    "## HITS Algorithm"
   ]
  },
  {
   "cell_type": "markdown",
   "metadata": {},
   "source": [
    "We can summarize the HITS algorithm as follows:\n",
    "\n",
    "Initialize $\\textbf{h}$ and $\\textbf{a}$ to a vectors of 1's (of size $n$)\n",
    "\n",
    "Iterate:\n",
    "\n",
    "1. Compute $\\textbf{a}  = \\mu L^T \\textbf{h} $\n",
    "2. Scale $\\textbf{a}$ so that the largest component is 1 (i.e., divide each element by the maximum value.)\n",
    "3. Compute $\\textbf{h}  = \\mu L^T \\textbf{a} $\n",
    "4. Scale $\\textbf{h}$ so that the largest component is 1 \n",
    "\n",
    " Until changes to $\\textbf{h}$ and $\\textbf{a}$ are sufficiently small."
   ]
  },
  {
   "cell_type": "markdown",
   "metadata": {},
   "source": [
    "We implement the hits algorithm below."
   ]
  },
  {
   "cell_type": "code",
   "execution_count": 96,
   "metadata": {},
   "outputs": [],
   "source": [
    "def hits(L, tol=10**-6, max_iter=100):\n",
    "    \"\"\"Compute the PageRank of a given Transition Matrix\n",
    "\n",
    "    Parameters\n",
    "    ----------\n",
    "    L : numpy array\n",
    "        Link Matrix: Array of shape (n, n), where n is the number of nodes in the network\n",
    "    tol : float\n",
    "        Tolerance: Iteration stops if the distance between previous and updated PageRank vectors \n",
    "        goes below this value\n",
    "    max_iter : integer\n",
    "        Maximum number of iterations\n",
    "    Returns\n",
    "    -------\n",
    "    h, a : tuple of numpy array\n",
    "        Vectors of size n containing the hub and authority values \n",
    "    \"\"\"\n",
    "    h = np.ones(L.shape[0])\n",
    "    a = np.ones(L.shape[0])\n",
    "    delta = 1/tol # initialize to a large number\n",
    "    i = 0\n",
    "    while delta > tol:\n",
    "        i += 1\n",
    "        \n",
    "        # save old values\n",
    "        prev_h = h\n",
    "        prev_a = a\n",
    "\n",
    "        # update a\n",
    "        a = L.T.dot(h)    \n",
    "        # scale a\n",
    "        a = a/np.max(a)\n",
    "\n",
    "        # update h\n",
    "        h = L.dot(a)\n",
    "        # scale h\n",
    "        h = h/np.max(h)\n",
    "\n",
    "        delta = np.mean([\n",
    "                np.sum(np.abs(h-prev_h)), \n",
    "                np.sum(np.abs(a-prev_a))\n",
    "                ])\n",
    "        if i >= max_iter:\n",
    "            break        \n",
    "    return h, a"
   ]
  },
  {
   "cell_type": "code",
   "execution_count": 98,
   "metadata": {},
   "outputs": [
    {
     "name": "stdout",
     "output_type": "stream",
     "text": [
      "h: [1.00000000e+00 3.58257838e-01 1.02588408e-11 7.16515005e-01\n",
      " 0.00000000e+00]\n",
      "a: [2.08712567e-01 1.00000000e+00 1.00000000e+00 7.91288371e-01\n",
      " 2.86353830e-11]\n"
     ]
    }
   ],
   "source": [
    "L = nx.adjacency_matrix(G4).toarray()\n",
    "h, a = hits(L)\n",
    "print(f'h: {h}')\n",
    "print(f'a: {a}')"
   ]
  },
  {
   "cell_type": "markdown",
   "metadata": {},
   "source": [
    "# Summary"
   ]
  },
  {
   "cell_type": "markdown",
   "metadata": {},
   "source": [
    "# Exercises\n",
    "\n",
    "1. As discussed above, Google introduced the innovation of judging the importance of a page by the terms used in the link, and not just hte links that appeared in the page. How does this defeat Term Spam?\n",
    "2. Why not just count the number of inlinks to a page instead of doing PageRank?\n",
    "3. Explain the meaning of the first term and second term in the RHS of the equation for PageRank with Taxation.\n",
    "$\n",
    "    \\textbf{v}^{(t+1)}= \\beta M\\textbf{v}^{(t)} + (1-\\beta)\\textbf{e}/n\n",
    "$\n",
    "4.\n",
    "\n"
   ]
  },
  {
   "cell_type": "markdown",
   "metadata": {},
   "source": [
    "# Reference\n",
    "\n",
    "* Jure Leskovec, Anand Rajaraman, and Jeffrey D Ullman. Mining of massive datasets, chapter 5. Cambridge University Press, 3rd edition, 2019. http://www.mmds.org/. All figures, except Figure 2, were cropped from this book. Figure 2 was adapted from the presentation slides made available by the authors of the same book."
   ]
  }
 ],
 "metadata": {
  "kernelspec": {
   "display_name": "Python [conda env:.conda-dla2]",
   "language": "python",
   "name": "conda-env-.conda-dla2-py"
  },
  "language_info": {
   "codemirror_mode": {
    "name": "ipython",
    "version": 3
   },
   "file_extension": ".py",
   "mimetype": "text/x-python",
   "name": "python",
   "nbconvert_exporter": "python",
   "pygments_lexer": "ipython3",
   "version": "3.9.6"
  },
  "toc": {
   "base_numbering": 1,
   "nav_menu": {},
   "number_sections": true,
   "sideBar": true,
   "skip_h1_title": false,
   "title_cell": "Table of Contents",
   "title_sidebar": "Contents",
   "toc_cell": false,
   "toc_position": {
    "height": "calc(100% - 180px)",
    "left": "10px",
    "top": "150px",
    "width": "294.188px"
   },
   "toc_section_display": true,
   "toc_window_display": true
  }
 },
 "nbformat": 4,
 "nbformat_minor": 4
}
