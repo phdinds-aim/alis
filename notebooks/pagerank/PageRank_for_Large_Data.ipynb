{
 "cells": [
  {
   "cell_type": "markdown",
   "metadata": {},
   "source": [
    "# Motivation"
   ]
  },
  {
   "cell_type": "markdown",
   "metadata": {},
   "source": [
    "Leskovec et al., in their book *Mining of massive datasets* (http://www.mmds.org/) wrote \"In practice, for the Web itself, 50–75 iterations are sufficient to converge to within the error limits of double-precision arithmetic.\"\n",
    "\n",
    "In 2008, [Google said that it was indexing 1 trillion pages](https://googleblog.blogspot.com/2008/07/we-knew-web-was-big.html). and according to [this site](https://venturebeat.com/2013/03/01/how-google-searches-30-trillion-web-pages-100-billion-times-a-month/#:~:text=Google%20says%20that%20it%20stores,now%20at%20100%20million%20gigabytes.), the number of pages is now 30 trillion. Let's calculate the amount of memory needed to store the vector $\\textbf{v}$ for the 2008 reported value of Google of 1 trillion pages."
   ]
  },
  {
   "cell_type": "code",
   "execution_count": 1,
   "metadata": {},
   "outputs": [
    {
     "data": {
      "text/plain": [
       "8000.0"
      ]
     },
     "execution_count": 1,
     "metadata": {},
     "output_type": "execute_result"
    }
   ],
   "source": [
    "n = 1*(10**12)      # 1 trillion pages\n",
    "bytes_per_float = 8      \n",
    "bytes_per_gig = 10**9\n",
    "n * bytes_per_float / bytes_per_gig"
   ]
  },
  {
   "cell_type": "markdown",
   "metadata": {},
   "source": [
    "This is 8 terrabyte for a 2008 data! Even if this value is dated, the vector $\\textbf{v}$ is so large that it can't fit in memory; we can just imagine how large $M$ woul be. For this problem, performing MapReduce would definitely be beneficial. In fact, Google's original purpose for MapReduce is to calculate the matrix-vector multiplications needed in PageRank."
   ]
  },
  {
   "cell_type": "markdown",
   "metadata": {},
   "source": [
    "We present below two issues:\n",
    "\n",
    "1. The matrix $M$, is, in fact, very sparse. We can save a lot of space by storing only the nonzero elements.\n",
    "2. For some reason, we may opt to not use MapReduce, or, we wish to reduce the amount of data passed from Map tasks to Reduce tasks. \n",
    "\n",
    "Let's discuss the solutions to these two issues."
   ]
  },
  {
   "cell_type": "markdown",
   "metadata": {},
   "source": [
    "# Sparse Transition Matrices"
   ]
  },
  {
   "cell_type": "markdown",
   "metadata": {},
   "source": [
    "Let us consider Graph 1 again. "
   ]
  },
  {
   "cell_type": "code",
   "execution_count": 2,
   "metadata": {},
   "outputs": [
    {
     "data": {
      "image/png": "[encoded data removed]",
      "text/plain": [
       "<Figure size 432x288 with 1 Axes>"
      ]
     },
     "metadata": {},
     "output_type": "display_data"
    }
   ],
   "source": [
    "import networkx as nx\n",
    "import matplotlib.pyplot as plt\n",
    "\n",
    "G1 = nx.DiGraph()\n",
    "G1.add_nodes_from([\"A\",\"B\",\"C\",\"D\",\"E\"])\n",
    "G1.add_edges_from([\n",
    "    (\"A\",\"B\"), (\"A\",\"C\"), (\"A\",\"D\"), (\"A\",\"E\"), \n",
    "    (\"B\",\"A\"), (\"B\",\"D\"), \n",
    "    (\"C\",\"A\"),    \n",
    "    (\"D\",\"B\"), (\"D\",\"C\"),\n",
    "    (\"E\",\"B\"),\n",
    "])\n",
    "\n",
    "\n",
    "plt.figure()  \n",
    "plt.title(\"Graph 1. A Graph as a hypothetical representation of the web\")\n",
    "nx.draw(G1, node_size=500, node_color='orange', with_labels=True, font_weight='bold', arrowsize=20)\n",
    "plt.tight_layout()\n",
    "plt.show()"
   ]
  },
  {
   "cell_type": "markdown",
   "metadata": {},
   "source": [
    "We can save on space by only representing the nonzero entries in the Transition Matrix. "
   ]
  },
  {
   "cell_type": "markdown",
   "metadata": {},
   "source": [
    "|Source|(Destination, Value)|\n",
    "|:--:|:--|\n",
    "|A| (B, 1/4), (C, 1/4), (D, 1/4), (E, 1/4)|\n",
    "|B| (A, 1/2), (D, 1/2)|\n",
    "|C| (A, 1)|\n",
    "|D| (B, 1/2), (C, 1/2)|\n",
    "|E| (B, 1)|"
   ]
  },
  {
   "cell_type": "markdown",
   "metadata": {},
   "source": [
    "However, we can actually go even further, by only representing the number of out-degrees from a node, and noting the other nodes to which it links. This works since we know that the probability of transitioning from one node to a node it connects to is the same (which is $1/\\text{out-degree}$). Working this way, allows us to use integers instead of floats for our representation of the Transition Matrix. "
   ]
  },
  {
   "cell_type": "markdown",
   "metadata": {},
   "source": [
    "|Source|Degree|Destination|\n",
    "|:--:|:--:|:--|\n",
    "|A|4|B, C, D, E|\n",
    "|B|2|A, D|\n",
    "|C|1|A|\n",
    "|D|2|B, C|\n",
    "|E|2|B|"
   ]
  },
  {
   "cell_type": "markdown",
   "metadata": {},
   "source": [
    "# Map Reduce when  *v* fits in memory"
   ]
  },
  {
   "cell_type": "markdown",
   "metadata": {},
   "source": [
    "First, let's consider the naive case when $\\textbf{v}$ fits in the memory.\n",
    "\n",
    "Recall the update rule $\\textbf{v}^{(t+1)}= \\beta M\\textbf{v}^{(t)} + (1-\\beta)\\textbf{e}/n$. \n",
    "\n",
    "For simpler notation, let us render this as \n",
    "$\n",
    "\\textbf{v'}= \\beta M\\textbf{v} + (1-\\beta)\\textbf{e}/n\n",
    "$\n"
   ]
  },
  {
   "cell_type": "markdown",
   "metadata": {},
   "source": [
    "Recall that $\\beta$ is a constant and $\\textbf{e}$ is just a vector of 1's. Thus, the update rule above is equivalent to \n",
    "- Performing a matrix-vector multiplication ($M\\textbf{v}$)\n",
    "- Multiplying the result by a constant ($\\beta$)\n",
    "- Adding to the result another constant ($(1-\\beta)/n$)\n"
   ]
  },
  {
   "cell_type": "markdown",
   "metadata": {},
   "source": [
    "Thus, the focus of the MapReduce functions will be on the matrix-vector multiplication, and it can be described as follows:\n",
    "\n",
    "**Map function**: Produce key-value pair $(i, m_{ij}v_j)$ <br>\n",
    "**Reduce function**: Sum all values associated with a given key $i$, resulting in the pair $(i, x_i)$"
   ]
  },
  {
   "cell_type": "markdown",
   "metadata": {},
   "source": [
    "**Pyspark Illustration**"
   ]
  },
  {
   "cell_type": "markdown",
   "metadata": {},
   "source": [
    "Please refer to the subsection [PageRank_Using_MapReduce](PageRank_Using_MapReduce.ipynb) for a discussion on the implementation of this procedure in pyspark. "
   ]
  },
  {
   "cell_type": "markdown",
   "metadata": {},
   "source": [
    "#  Striping Approach"
   ]
  },
  {
   "cell_type": "markdown",
   "metadata": {},
   "source": [
    "As seen in the previous discussion, for Google's PageRank, $\\textbf{v}$ does not actually fit in memory. A solution to address this is **striping**.\n",
    "Here we divide the matrix $M$ into vertical stripes of equal length and similarly divide $\\textbf{v}$ into horizontal stripes of equivalent height as shown in Figure 5 below. The goal is to choose a stripe length small enough so that $\\textbf{v}$ could fit conveniently into the memory of one compute node."
   ]
  },
  {
   "cell_type": "markdown",
   "metadata": {},
   "source": [
    "<img src='images//Striping.PNG' width='350px'></img>\n",
    "<center><b>Figure 1. Division of matrix and vector into 5 stripes</b></center>"
   ]
  },
  {
   "cell_type": "markdown",
   "metadata": {},
   "source": [
    "The MapReduce changes in the following way: Each Map task is assigned a chunk from one of the\n",
    "stripes of the matrix and gets the entire corresponding stripe of the vector. The Map and Reduce functions act exactly as previously described."
   ]
  },
  {
   "cell_type": "markdown",
   "metadata": {},
   "source": [
    "# Blocking Approach"
   ]
  },
  {
   "cell_type": "markdown",
   "metadata": {},
   "source": [
    "The striping method described above has the following issues:\n",
    "1. A vertical stripe of $M$ multiplied by a horizontal stripe of $\\textbf{v}$ actually produces a vector of the same size as $\\textbf{v}$. A problem happens this vector does not actually fit in memory.\n",
    "2. If we want to aggregate sums at the Map tasks before sending to the Reducer, the striping method will not be efficient since the product of the matrix and vector stripes affect all rows of the resulting vector $\\textbf{v'}$\n",
    "\n",
    "To circumvent this limitation is partition $M$ into $k x k$ blocks while the vector $\\textbf{v}$ is partitioned into $k$ stripes as shownin Figure 6 below. "
   ]
  },
  {
   "cell_type": "markdown",
   "metadata": {},
   "source": [
    "<img src='images/Blocking.PNG' width='450px'></img>\n",
    "<center><b>Figure 2. Blocking approach</b></center>\n",
    "<center><small>Image adapted from Leskovec, Rajaraman, and Ullman. Mining of Massive Datasets, 2019.</small></center>"
   ]
  },
  {
   "cell_type": "markdown",
   "metadata": {},
   "source": [
    "The MapReduce can be implemented thus:\n",
    "- There are $k^2$ Map tasks\n",
    "- Each Map task gets one square, say $M_{ij}$, and one stripe of the vector, say $\\textbf{v}_j$\n",
    "- For each Map task, add the terms with common keys before sending to the Reducer "
   ]
  },
  {
   "cell_type": "markdown",
   "metadata": {},
   "source": [
    "**Advantage of this approach**\n",
    "- As we process $M_{ij}$, we can keep both $\\textbf{v'}_i$ and $\\textbf{v}_j$ in memory \n",
    "    - Note that all terms generated from $M_{ij}$ and $\\textbf{v'}_j$ contribute only to $\\textbf{v'}_i$ and no other stripe of $\\textbf{v}$"
   ]
  },
  {
   "cell_type": "markdown",
   "metadata": {},
   "source": [
    "**EXERCISES**\n",
    "\n",
    "1. Assuming that Google is indexing 30 trillion pages in 2021, how large of a memory is needed to load all the nodes' PageRanks in one vector?\n",
    "2. Create a sparse representation of Graph 2 in the previous section.\n",
    "3. Create a sparse representation of Graph 3 in the previous section."
   ]
  },
  {
   "cell_type": "markdown",
   "metadata": {},
   "source": [
    "**REFERENCE**\n",
    "\n",
    "* Jure Leskovec, Anand Rajaraman, and Jeffrey D Ullman. Mining of massive datasets, chapter 5. Cambridge University Press, 3rd edition, 2019. http://www.mmds.org/. All figures, except Figure 2, were cropped from this book. Figure 2 was adapted from the presentation slides made available by the authors of the same book."
   ]
  }
 ],
 "metadata": {
  "kernelspec": {
   "display_name": "Python [conda env:.conda-dla2]",
   "language": "python",
   "name": "conda-env-.conda-dla2-py"
  },
  "language_info": {
   "codemirror_mode": {
    "name": "ipython",
    "version": 3
   },
   "file_extension": ".py",
   "mimetype": "text/x-python",
   "name": "python",
   "nbconvert_exporter": "python",
   "pygments_lexer": "ipython3",
   "version": "3.9.6"
  },
  "toc": {
   "base_numbering": 1,
   "nav_menu": {},
   "number_sections": true,
   "sideBar": true,
   "skip_h1_title": false,
   "title_cell": "Table of Contents",
   "title_sidebar": "Contents",
   "toc_cell": false,
   "toc_position": {
    "height": "calc(100% - 180px)",
    "left": "10px",
    "top": "150px",
    "width": "217px"
   },
   "toc_section_display": true,
   "toc_window_display": true
  }
 },
 "nbformat": 4,
 "nbformat_minor": 4
}
