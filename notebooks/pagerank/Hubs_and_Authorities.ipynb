{
 "cells": [
  {
   "cell_type": "markdown",
   "metadata": {},
   "source": [
    "Another method for analyzing the importance of web pages is *Hubs and Authorities*, also known as *HITS (Hyperlink-Induced Topic Search)*, proposed shortly after PageRank was implemented. This section describes how this method is implemented."
   ]
  },
  {
   "cell_type": "markdown",
   "metadata": {},
   "source": [
    "## Description of Hubs and Authorities"
   ]
  },
  {
   "cell_type": "markdown",
   "metadata": {},
   "source": [
    "While PageRank assesses the importance of pages in a somewhat one-directional way (via in-links to pages), the HITS methodology revolve around two notions of importance:\n",
    "\n",
    "1. *Authorities* - Pages are assessed as important because they *provide information* about a topic.\n",
    "2. *Hubs* - Pages are assessed as important because they tell *where to go* to get information about a topic.\n",
    "\n",
    "Just like PageRank, HITS makes use of links as a way of assessing the importance of pages. \n",
    "\n",
    "It does this in a recursive manner:\n",
    "- A page is a good **hub** if it **links to** good authorities\n",
    "- A page is a good **authority** if it is **linked by** good hubs"
   ]
  },
  {
   "cell_type": "markdown",
   "metadata": {},
   "source": [
    "## The Link Matrix"
   ]
  },
  {
   "cell_type": "markdown",
   "metadata": {},
   "source": [
    "The HITS algorithm also makes use of a matrix to compute the score of *'hubbiness'* or *authority* of pages. Let's assume that these scores are represented by the vectors $\\textbf{h}$ and $\\textbf{a}$.\n",
    "Further assume that $n$ is the number of pages in the network.\n",
    "\n",
    "To compute $\\textbf{h}$ and $\\textbf{a}$, we need a matrix to contain information about the links.\n",
    "For the HITS algorithm, this matrix is called the *link matrix* $L$, of size $n$ x $n$. \n",
    "\n",
    "If we denote the elements of $L$ as $\\ell_{ij}$, we have:"
   ]
  },
  {
   "cell_type": "markdown",
   "metadata": {},
   "source": [
    "$\n",
    "    \\ell_{ij}=\\left\\{\n",
    "    \\begin{array}{@{}ll@{}}\n",
    "    1, & \\text{if there is a link from page } i \\text{ to } j \\\\\n",
    "    0, & \\text{otherwise}\n",
    "    \\end{array}\\right.\n",
    "$\n"
   ]
  },
  {
   "cell_type": "markdown",
   "metadata": {},
   "source": [
    "Note that, compared to the Transition Matrix of PageRank, the *direction* for putting entries in the matrix is reversed, since for the transition matrix, the entries are defined according to links from **$j$ to $i$**. Aside from the matrix $L$, hits also makes use of its transpose, $L^T$. Note that $L^T$ is similar to the transition matrix, only that its entries are $1$ for instead of $1/n$ for the non-zero elements."
   ]
  },
  {
   "cell_type": "markdown",
   "metadata": {},
   "source": [
    "Given the earlier discussion on graph notations, we observe that the Link Matrix is actually nothing but the adjacency matrix of the graph."
   ]
  },
  {
   "cell_type": "code",
   "execution_count": 1,
   "metadata": {},
   "outputs": [
    {
     "data": {
      "image/png": "[encoded data removed]",
      "text/plain": [
       "<Figure size 432x288 with 1 Axes>"
      ]
     },
     "metadata": {},
     "output_type": "display_data"
    }
   ],
   "source": [
    "import networkx as nx\n",
    "import matplotlib.pyplot as plt\n",
    "\n",
    "G4 = nx.DiGraph()\n",
    "G4.add_nodes_from([\"A\",\"B\",\"C\",\"D\",\"E\"])\n",
    "G4.add_edges_from([\n",
    "    (\"A\",\"B\"), (\"A\",\"C\"), (\"A\",\"D\"), \n",
    "    (\"B\",\"A\"), (\"B\",\"D\"),\n",
    "    (\"C\",\"E\"),    \n",
    "    (\"D\",\"B\"), (\"D\",\"C\")\n",
    "])\n",
    "\n",
    "plt.figure()  \n",
    "plt.title(\"Graph 4. A sample graph for illustrating the HITS algorithm\")\n",
    "nx.draw(G4, node_size=500, node_color='orange', with_labels=True, font_weight='bold', arrowsize=20)\n",
    "plt.tight_layout()\n",
    "plt.show()"
   ]
  },
  {
   "cell_type": "markdown",
   "metadata": {},
   "source": [
    "The link matrix or adjacency matrix of $G4$ is given by:"
   ]
  },
  {
   "cell_type": "code",
   "execution_count": 2,
   "metadata": {},
   "outputs": [
    {
     "data": {
      "text/plain": [
       "array([[0, 1, 1, 1, 0],\n",
       "       [1, 0, 0, 1, 0],\n",
       "       [0, 0, 0, 0, 1],\n",
       "       [0, 1, 1, 0, 0],\n",
       "       [0, 0, 0, 0, 0]])"
      ]
     },
     "execution_count": 2,
     "metadata": {},
     "output_type": "execute_result"
    }
   ],
   "source": [
    "nx.adjacency_matrix(G4).toarray()"
   ]
  },
  {
   "cell_type": "markdown",
   "metadata": {},
   "source": [
    "## Deriving the HITS update rule"
   ]
  },
  {
   "cell_type": "markdown",
   "metadata": {},
   "source": [
    "Recall in PageRank that the score of a page is distributed to its successors. In the case of HITS, the score passed to the successors. In order to prevent values from growing without bounds, the values are normally scaled so that the largest value of a component is 1. "
   ]
  },
  {
   "cell_type": "markdown",
   "metadata": {},
   "source": [
    "Given constants $\\lambda$ and $\\mu$ to represent the scaling factor, we can describe the iteration step for updating $\\textbf{h}$ and $\\textbf{a}$ as follows:\n",
    "* $\\textbf{h'}  = \\lambda L \\textbf{a} $\n",
    "* $\\textbf{a'}  = \\mu L^T \\textbf{h} $"
   ]
  },
  {
   "cell_type": "markdown",
   "metadata": {},
   "source": [
    "Since the hubbiness of a page is proportional to the authority of its *successors*, and the authority of a page is proportional to the hubbiness of its *predecessors*, we can actually compute for hubbiness independently, giving us a form that allows us to compute the two values independently.\n",
    "* $\\textbf{h'}  = \\lambda \\mu L L^{T} \\textbf{a} $\n",
    "* $\\textbf{a'}  = \\lambda \\mu L^T\n",
    "L \\textbf{h} $"
   ]
  },
  {
   "cell_type": "markdown",
   "metadata": {},
   "source": [
    "However, since $L L^{T}$ and $L^{T} L$ are not sparse, it is actually better to compute  $\\textbf{h}$ and $\\textbf{a}$ recursively. We outline method in the next subsection."
   ]
  },
  {
   "cell_type": "markdown",
   "metadata": {},
   "source": [
    "## HITS Algorithm"
   ]
  },
  {
   "cell_type": "markdown",
   "metadata": {},
   "source": [
    "We can summarize the HITS algorithm as follows:\n",
    "\n",
    "Initialize $\\textbf{h}$ and $\\textbf{a}$ to a vectors of 1's (of size $n$)\n",
    "\n",
    "Iterate:\n",
    "\n",
    "1. Compute $\\textbf{a}  = \\mu L^T \\textbf{h} $\n",
    "2. Scale $\\textbf{a}$ so that the largest component is 1 (i.e., divide each element by the maximum value.)\n",
    "3. Compute $\\textbf{h}  = \\mu L^T \\textbf{a} $\n",
    "4. Scale $\\textbf{h}$ so that the largest component is 1 \n",
    "\n",
    " Until changes to $\\textbf{h}$ and $\\textbf{a}$ are sufficiently small."
   ]
  },
  {
   "cell_type": "markdown",
   "metadata": {},
   "source": [
    "We implement the hits algorithm below."
   ]
  },
  {
   "cell_type": "code",
   "execution_count": 3,
   "metadata": {},
   "outputs": [],
   "source": [
    "def hits(L, tol=10**-6, max_iter=100):\n",
    "    \"\"\"Compute the PageRank of a given Transition Matrix\n",
    "\n",
    "    Parameters\n",
    "    ----------\n",
    "    L : numpy array\n",
    "        Link Matrix: Array of shape (n, n), where n is the number of nodes in the network\n",
    "    tol : float\n",
    "        Tolerance: Iteration stops if the distance between previous and updated PageRank vectors \n",
    "        goes below this value\n",
    "    max_iter : integer\n",
    "        Maximum number of iterations\n",
    "    Returns\n",
    "    -------\n",
    "    h, a : tuple of numpy array\n",
    "        Vectors of size n containing the hub and authority values \n",
    "    \"\"\"\n",
    "    h = np.ones(L.shape[0])\n",
    "    a = np.ones(L.shape[0])\n",
    "    delta = 1/tol # initialize to a large number\n",
    "    i = 0\n",
    "    while delta > tol:\n",
    "        i += 1\n",
    "        \n",
    "        # save old values\n",
    "        prev_h = h\n",
    "        prev_a = a\n",
    "\n",
    "        # update a\n",
    "        a = L.T.dot(h)    \n",
    "        # scale a\n",
    "        a = a/np.max(a)\n",
    "\n",
    "        # update h\n",
    "        h = L.dot(a)\n",
    "        # scale h\n",
    "        h = h/np.max(h)\n",
    "\n",
    "        delta = np.mean([\n",
    "                np.sum(np.abs(h-prev_h)), \n",
    "                np.sum(np.abs(a-prev_a))\n",
    "                ])\n",
    "        if i >= max_iter:\n",
    "            break        \n",
    "    return h, a"
   ]
  },
  {
   "cell_type": "code",
   "execution_count": 4,
   "metadata": {
    "scrolled": true
   },
   "outputs": [
    {
     "name": "stdout",
     "output_type": "stream",
     "text": [
      "h: [1.00000000e+00 3.58257838e-01 1.02588408e-11 7.16515005e-01\n",
      " 0.00000000e+00]\n",
      "a: [2.08712567e-01 1.00000000e+00 1.00000000e+00 7.91288371e-01\n",
      " 2.86353830e-11]\n"
     ]
    }
   ],
   "source": [
    "import numpy as np\n",
    "\n",
    "L = nx.adjacency_matrix(G4).toarray()\n",
    "h, a = hits(L)\n",
    "print(f'h: {h}')\n",
    "print(f'a: {a}')"
   ]
  },
  {
   "cell_type": "markdown",
   "metadata": {},
   "source": [
    "**EXERCISES**\n",
    "1. Identify pages that can be considered as examples of hubs and authorities\n",
    "2. Calculate the $h$ and $a$ scores for Graph 1 in the previous section."
   ]
  },
  {
   "cell_type": "markdown",
   "metadata": {},
   "source": [
    "**REFERENCE**\n",
    "\n",
    "* Jure Leskovec, Anand Rajaraman, and Jeffrey D Ullman. Mining of massive datasets, chapter 5. Cambridge University Press, 3rd edition, 2019. http://www.mmds.org/. All figures, except Figure 2, were cropped from this book. Figure 2 was adapted from the presentation slides made available by the authors of the same book."
   ]
  }
 ],
 "metadata": {
  "kernelspec": {
   "display_name": "Python [conda env:.conda-dla2]",
   "language": "python",
   "name": "conda-env-.conda-dla2-py"
  },
  "language_info": {
   "codemirror_mode": {
    "name": "ipython",
    "version": 3
   },
   "file_extension": ".py",
   "mimetype": "text/x-python",
   "name": "python",
   "nbconvert_exporter": "python",
   "pygments_lexer": "ipython3",
   "version": "3.9.6"
  },
  "toc": {
   "base_numbering": 1,
   "nav_menu": {},
   "number_sections": true,
   "sideBar": true,
   "skip_h1_title": false,
   "title_cell": "Table of Contents",
   "title_sidebar": "Contents",
   "toc_cell": false,
   "toc_position": {
    "height": "calc(100% - 180px)",
    "left": "10px",
    "top": "150px",
    "width": "294.188px"
   },
   "toc_section_display": true,
   "toc_window_display": true
  }
 },
 "nbformat": 4,
 "nbformat_minor": 4
}
