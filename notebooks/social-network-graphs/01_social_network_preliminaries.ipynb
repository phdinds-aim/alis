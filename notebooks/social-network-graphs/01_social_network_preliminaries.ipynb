{
 "cells": [
  {
   "cell_type": "markdown",
   "id": "717ad510",
   "metadata": {},
   "source": [
    "# Social Network Preliminaries\n",
    "\n",
    "As network connectivity improves, more individuals are getting involved in social media activities. In the last quarter of 2021, Facebook has roughly 2.91 billion active users. In the Philippines alone, there are around 75 million users. For twitter, there’s 400 million worldwide and 10 million users in the Philippines. Analyzing social networks enables us to gain a better understanding of the community structure by visualizing the relationships that link them together as a network. Through this analysis, we can identify key individuals, isolate groupings within the network ('communities'), and/or establish associations between the individuals.With the massive amount of data available, we require the appropriate tools to analyze it. \n",
    "\n",
    "## What is a Social Network?\n",
    "\n",
    "Social networks are social structures composed of a collection of social actors (either persons or organizations), a set of dyadic relationships, and other social interactions amongst the actors. The social network approach provides a framework for examining the structure of social entities, as well the theories that explain the patterns observed in these networks. Social network analysis is used to investigate these structures in order to discover local and global patterns, identify influential entities, and investigate network dynamics. Social network analysis studies individual behavior at the micro level, the pattern of relationships (network structure) at the macro level, and the interactions between the two at both levels. \n",
    "\n",
    "The essential characteristics of a social network are:\n",
    "\n",
    "1. There is a collection of entities that participate in the network.\n",
    "2. There is at least one relationship between entities of the network.\n",
    "3. There is an assumption of nonrandomness or locality.\n"
   ]
  },
  {
   "cell_type": "markdown",
   "id": "8b1d6cc4",
   "metadata": {},
   "source": [
    "## Social Networks as Graphs\n",
    "\n",
    "Social networks are represented as graphs, which we may refer to as a social graph. The entities are called nodes, and an edge joins two nodes if the nodes are associated through the network's relationship. Social graphs can be undirected graphs ({numref}`directed` a) in which  the links have no direction, such as the Facebook friends graph. A directed graph, on the other hand, have edges that point in a specific direction ({numref}`directed` b), an example of which is the graph of followers on Twitter.  \n",
    "\n",
    "\n",
    "```{figure} ./images/directed.png\n",
    ":name: directed\n",
    ":width: 500px\n",
    "\n",
    "(a) Undirected and (b) directed networks\n",
    "```\n",
    "\n",
    "A network can also be unweighted ({numref}`weighted` a) or weighted ({numref}`weighted` b). The weights of the edges in weighted network signifies the strength of the relationship or the frequency of interaction of the nodes. Larger weights mean stronger ties or more frequent interactions. \n",
    "\n",
    "\n",
    "```{figure} ./images/weighted.png\n",
    ":name: weighted\n",
    ":width: 500px\n",
    "\n",
    "(a) Unweighted and (b) weighted networks\n",
    "```\n",
    "\n",
    "There are other social phenomena that involve entities of different types. For example, authorship networks can have author nodes and paper nodes. The natural way to represent such information is as a k-partite graph for some k > 1. A k-partite network is made up of k disjoint sets of nodes, with no edges connecting nodes from the same set. For the example in {numref}`kpartite`, we have a tripartite graph as we have 3 types of nodes as indicated by the color.\n",
    "\n",
    "\n",
    "```{figure} ./images/kpartite.png\n",
    ":name: kpartite\n",
    ":width: 150px\n",
    "\n",
    "(a) k-partite graph\n",
    "```"
   ]
  },
  {
   "cell_type": "markdown",
   "id": "68e3b69a",
   "metadata": {},
   "source": [
    "## Examples of Social Networks\n",
    "\n",
    "One example of a social network is the telephone network. In telephone networks, nodes represent phone numbers, which are actually distinct individuals. If a call has been placed between two nodes in a specific period of time, such as the previous month or the previous year, then there is a link between them. The weights of the edges could be determined by the number of calls that were made between these phones throughout the time period. Communities will arise in a telephone network as a result of frequent communication between groups of individuals, such as groups of friends, members of a club, or employees of the same firm, for example.\n",
    "\n",
    "Individuals are represented by the nodes in email networks, which are also represented by email addresses. An edge represents the fact that at least one email was sent in at least one way between the two addresses. Or we may only assign an edge if there were emails sent both ways. In this manner, spammers are not seen as \"friends\" with all of their victims. Another technique is to categorize edges as either weak or strong depending on the strength of the relationship or frequency of communication. Strong edges represent communication that took place in both directions (or more frequently if the frequency of communication is being considered), whereas weak edges reflect communication that took place just in one way (or less frequently).\n",
    "\n",
    "Shown in {numref}`karate` is a social network of friendships between 34 members of a karate club at a US university in the 1970s known as Zachary’s karate club. Individuals who were observed engaging in activities outside of the club's events were linked together via edges. Eventually, a conflict emerged between the club's president and the instructor, dividing the club into two factions, each of which backed the instructor and the president separately. (indicated by the color of the circles). The question is whether it is possible to infer the composition of the two groups from the network topology that was created initially. By examining the figure, it is possible to distinguish two aggregations: one centered on vertices 33 and 34 (of which 34 is the president), and the other centered on vertex 1 (the instructor). One can also identify other vertices that are located between the two main structures, such as 3, 9, and 10. These vertices are frequently misclassified by community detection methods since they are located between the two main structures. The Zachary’s karate club network is frequently used as a standard benchmark in community detection.\n",
    "\n",
    "```{figure} ./images/karate_club.png\n",
    ":name: karate\n",
    ":width: 150px\n",
    "\n",
    "(a) Zachary’s karate club. Social network of friendships between 34 members of a karate club at a US university in the 1970s\n",
    "```\n",
    "\n",
    "*CuneytAkcora, CC BY-SA 4.0 <https://creativecommons.org/licenses/by-sa/4.0>, via Wikimedia Commons*"
   ]
  },
  {
   "cell_type": "markdown",
   "id": "aea80eeb",
   "metadata": {},
   "source": [
    "## Exercise"
   ]
  },
  {
   "cell_type": "markdown",
   "id": "f125c139",
   "metadata": {},
   "source": [
    "1. List examples of social network. For each example, specify the nodes and the relationship represented by the edges.\n",
    "\n",
    "2. Discuss the benefit of representing social networks as weighted and unweighted and directed and undirected graphs."
   ]
  }
 ],
 "metadata": {
  "kernelspec": {
   "display_name": "Python 3 (ipykernel)",
   "language": "python",
   "name": "python3"
  },
  "language_info": {
   "codemirror_mode": {
    "name": "ipython",
    "version": 3
   },
   "file_extension": ".py",
   "mimetype": "text/x-python",
   "name": "python",
   "nbconvert_exporter": "python",
   "pygments_lexer": "ipython3",
   "version": "3.9.6"
  }
 },
 "nbformat": 4,
 "nbformat_minor": 5
}
