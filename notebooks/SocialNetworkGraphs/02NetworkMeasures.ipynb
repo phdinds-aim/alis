{
 "cells": [
  {
   "cell_type": "markdown",
   "id": "0e4847aa",
   "metadata": {},
   "source": [
    "# Network Measures\n",
    "\n",
    "Network structure can be quantified using different network measures. These parameters can be classified into two: centrality measures or node-level measures and network-level measures.  \n",
    "\n",
    "## Centrality Measures (node-level measures)\n",
    "\n",
    "In network analysis, centrality measures identify the most \"important\" nodes inside a graph; in other words, how \"central\" a node is within the whole network. However, depending on how \"importance\" is defined, different nodes may be considered important. Because of its vast application and relatively easy computation, centrality is frequently the first measurement done in network analysis. Calculating it can help identify the influencers in a social media network or the disease super-spreaders during a pandemic. We discuss here some of the centrality measures used in network analysis.\n",
    "\n",
    "In weighted networks, we can also calculate the **node strength**, which is the sum of the weights of edges connected to the node. "
   ]
  },
  {
   "cell_type": "markdown",
   "id": "1608f98f",
   "metadata": {},
   "source": [
    "**Degree centrality** is the number of edges connected to a given node. In a social network, this might mean the number of friends an individual has. It can be computed using the equation $\\frac{m}{n-1}$ , where m is the number of edges connected to a node and n is the total number of nodes. \n",
    "\n",
    "Let us consider the network of some of the characters from Noli Me Tangere shown in the Figure. \n",
    "\n",
    "<img src='images/noli2.png' width=\"500\"/>\n",
    "<center><b>Figure 1. Network of characters from Noli Me Tangere.  </b></center> \n",
    "\n",
    "We can convert this to a networkx graph as shown here."
   ]
  },
  {
   "cell_type": "code",
   "execution_count": 1,
   "id": "b782fcae",
   "metadata": {},
   "outputs": [
    {
     "name": "stderr",
     "output_type": "stream",
     "text": [
      "Matplotlib created a temporary config/cache directory at /tmp/matplotlib-4xseuzg6 because the default path (/home/rroxasvillanueva/.cache/matplotlib) is not a writable directory; it is highly recommended to set the MPLCONFIGDIR environment variable to a writable directory, in particular to speed up the import of Matplotlib and to better support multiprocessing.\n"
     ]
    },
    {
     "data": {
      "image/png": "[encoded data removed]",
      "text/plain": [
       "<Figure size 432x288 with 1 Axes>"
      ]
     },
     "metadata": {},
     "output_type": "display_data"
    }
   ],
   "source": [
    "import networkx as nx\n",
    "import alis\n",
    "from alis import degree_centrality, betweenness_centrality, closeness_centrality, eigenvector_centrality\n",
    "from alis import plot_degree_distribution, average_degree\n",
    "\n",
    "G = nx.Graph()\n",
    "G.add_nodes_from([\"A\",\"B\",\"C\",\"D\",\"E\",\"F\",\"G\"])\n",
    "G.add_edges_from([(\"A\",\"B\"),(\"A\",\"C\"),(\"A\",\"D\"),(\"C\",\"F\"),\n",
    "(\"D\",\"E\"),(\"D\",\"F\"),(\"D\",\"G\"),(\"E\",\"F\"),(\"F\",\"G\")])\n",
    "nx.draw(G, node_size=400, node_color='red', with_labels=True, font_weight='bold')"
   ]
  },
  {
   "cell_type": "markdown",
   "id": "f4dc8fd0",
   "metadata": {},
   "source": [
    "And then calculate the degree centrality of each node."
   ]
  },
  {
   "cell_type": "code",
   "execution_count": 2,
   "id": "1999a577",
   "metadata": {},
   "outputs": [
    {
     "name": "stdout",
     "output_type": "stream",
     "text": [
      "degree centrality:\n",
      "D:0.667 F:0.667 A:0.5 C:0.333 E:0.333 G:0.333 B:0.167 \n",
      "\n"
     ]
    }
   ],
   "source": [
    "degree_centrality(G)"
   ]
  },
  {
   "cell_type": "markdown",
   "id": "7e06c510",
   "metadata": {},
   "source": [
    "**Betweenness centrality** is the number of geodesic paths (shortest paths) that go through a given node. Nodes with high betweenness may be influential in a network because information tends to flow through them."
   ]
  },
  {
   "cell_type": "code",
   "execution_count": 3,
   "id": "5d0f5fd5",
   "metadata": {},
   "outputs": [
    {
     "name": "stdout",
     "output_type": "stream",
     "text": [
      "betweenness centrality:\n",
      "A:0.367 D:0.367 F:0.2 C:0.0667 B:0.0 E:0.0 G:0.0 \n",
      "\n"
     ]
    }
   ],
   "source": [
    "betweenness_centrality(G)"
   ]
  },
  {
   "cell_type": "markdown",
   "id": "1c869afc",
   "metadata": {},
   "source": [
    "**Closeness centrality** is the number of steps required to access every other node from a given node. It is given by the equation inverse($\\frac{number of steps}{n-1}$)."
   ]
  },
  {
   "cell_type": "code",
   "execution_count": 4,
   "id": "89b9aa21",
   "metadata": {},
   "outputs": [
    {
     "name": "stdout",
     "output_type": "stream",
     "text": [
      "closeness centrality:\n",
      "D:0.75 A:0.667 F:0.667 C:0.6 E:0.545 G:0.545 B:0.429 \n",
      "\n"
     ]
    }
   ],
   "source": [
    "closeness_centrality(G)"
   ]
  },
  {
   "cell_type": "markdown",
   "id": "1edecbe2",
   "metadata": {},
   "source": [
    "**Eigenvector centrality** is determined from the values of the first eigenvector of the graph adjacency matrix. The values are high for vertices that are connected to many other vertices that are, in turn, connected many others and so on."
   ]
  },
  {
   "cell_type": "code",
   "execution_count": 5,
   "id": "615ea91f",
   "metadata": {},
   "outputs": [
    {
     "name": "stdout",
     "output_type": "stream",
     "text": [
      "eigenvector centrality:\n",
      "D:0.529 F:0.522 E:0.358 G:0.358 A:0.314 C:0.285 B:0.107 \n",
      "\n"
     ]
    }
   ],
   "source": [
    "eigenvector_centrality(G)"
   ]
  },
  {
   "cell_type": "markdown",
   "id": "e8ad5425",
   "metadata": {},
   "source": [
    "This figure illustrates the various centrality measures in a sample graph.\n",
    "\n",
    "<img src='images/centrality1.png' width=\"500\"/>\n",
    "<center><b>Figure 1. Illustration of various centrality measures. </b></center>"
   ]
  },
  {
   "cell_type": "markdown",
   "id": "b5f46735",
   "metadata": {},
   "source": [
    "### Network-level Measures\n",
    "\n",
    "The network measures tell us about the structure of the graph. Presented here are some of the network that are often calculated.\n",
    "\n",
    "1. Network size - number of nodes.\n",
    "2. Density - number of edges that exist / number of possible edges. If n is the number of nodes and m is the number of edges then density = $\\frac{2m}{n(n-1)}$ for an undirected graph and density = $\\frac{m}{n(n-1)}$ for a directed graph.\n",
    "3. Degree distribution - statistical distribution of node degrees in a network.\n",
    "4. Average path length - the fewest number of edges that you would have to go on to get from one node to another. \n",
    "5. Diameter - maximum path length.\n",
    "6. Clustering coefficient (Transitivity) - probability of two nodes that are connected to a common node being connected themselves. "
   ]
  },
  {
   "cell_type": "code",
   "execution_count": 6,
   "id": "0f8ea9eb",
   "metadata": {},
   "outputs": [
    {
     "name": "stdout",
     "output_type": "stream",
     "text": [
      "number of nodes =  7\n",
      "density =  0.42857142857142855\n",
      "average path length =  1.7142857142857142\n",
      "diameter =  3\n",
      "average_degree =  2.5714285714285716\n",
      "average clustering coefficient =  0.38095238095238093\n"
     ]
    }
   ],
   "source": [
    "print(\"number of nodes = \", G.number_of_nodes())\n",
    "print(\"density = \", nx.density(G))\n",
    "print(\"average path length = \", nx.average_shortest_path_length(G))\n",
    "print(\"diameter = \", nx.diameter(G))\n",
    "print(\"average_degree = \", average_degree(G))\n",
    "\n",
    "local_clustering_coefficient = nx.algorithms.cluster.clustering(G)\n",
    "av_local_clustering_coefficient = sum(local_clustering_coefficient.values())/len(local_clustering_coefficient)\n",
    "print(\"average clustering coefficient = \", av_local_clustering_coefficient)"
   ]
  },
  {
   "cell_type": "code",
   "execution_count": 7,
   "id": "da2a0507",
   "metadata": {},
   "outputs": [
    {
     "data": {
      "image/png": "[encoded data removed]",
      "text/plain": [
       "<Figure size 432x288 with 1 Axes>"
      ]
     },
     "metadata": {
      "needs_background": "light"
     },
     "output_type": "display_data"
    }
   ],
   "source": [
    "plot_degree_distribution(G)"
   ]
  },
  {
   "cell_type": "markdown",
   "id": "4ab75744",
   "metadata": {},
   "source": [
    "<div class=\"alert alert-info\">\n",
    "\n",
    "**Exercise**\n",
    "    \n",
    "Calculate the centrality and network measures of the graph in Figure 1. \n",
    "\n",
    "</div>"
   ]
  }
 ],
 "metadata": {
  "kernelspec": {
   "display_name": "Python 3 (ipykernel)",
   "language": "python",
   "name": "python3"
  },
  "language_info": {
   "codemirror_mode": {
    "name": "ipython",
    "version": 3
   },
   "file_extension": ".py",
   "mimetype": "text/x-python",
   "name": "python",
   "nbconvert_exporter": "python",
   "pygments_lexer": "ipython3",
   "version": "3.9.6"
  }
 },
 "nbformat": 4,
 "nbformat_minor": 5
}
