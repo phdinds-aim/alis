{
 "cells": [
  {
   "cell_type": "markdown",
   "id": "57c2064a",
   "metadata": {},
   "source": [
    "# Social Network Analysis using GraphFrames "
   ]
  },
  {
   "cell_type": "markdown",
   "id": "c50c32c7",
   "metadata": {},
   "source": [
    "Graph analytics offers a wide range of applications such as optimization of network flow and information propagation and fraud and anomaly detection. Because to the advent of social networks and the Internet of Things, we now have massive web-scale graphs with millions to billions of nodes and edges. We need tools to efficiently analyze such large graphs.\n",
    "\n",
    "Databricks launched **GraphFrames** which implements graph queries and pattern matching on top of Spark SQL to ease graph analytics. GraphFrames is a graph library built based on DataFrames. It benefits from the scalability and high performance of DataFrames, and provides high-level APIs for graph processing available from Scala, Java, and Python."
   ]
  },
  {
   "cell_type": "markdown",
   "id": "0a405720",
   "metadata": {},
   "source": [
    "## Creating GraphFrames\n",
    "\n",
    "We can create GraphFrames from vertex and edge DataFrames. A **vertex DataFrame** should contain a special column named \"id\" which enumerates unique IDs for each node in the graph. An **edge DataFrame** should contain two special columns: \"src\" (source node ID of edge) and \"dst\" (destination node ID of edge). Both the vertex and edge DataFrames can have arbitrary other columns which may represent node and edge attributes. These can be the name and age for the node attributes and relationship of the nodes as edge attribute. To illustrate, let us consider this small network of characters from Noli Me Tangere and the sample code shown below.\n",
    "\n",
    "<img src='images/noli.png' width=\"300\"/>\n",
    "<center><b>Figure 1. Network of characters from Noli Me Tangere.  </b></center> "
   ]
  },
  {
   "cell_type": "markdown",
   "id": "1d7f0fa4",
   "metadata": {},
   "source": [
    "<img src=\"images/loadGF.PNG\" alt=\"alt_text\" align=\"left\" width=\"500\"  />"
   ]
  },
  {
   "cell_type": "markdown",
   "id": "8997830d",
   "metadata": {},
   "source": [
    "Here are some example on how to use GraphFrame for network analysis\n",
    "\n",
    "\n",
    "<img src=\"images/GF.PNG\" alt=\"alt_text\" align=\"left\" width=\"600\"  />"
   ]
  }
 ],
 "metadata": {
  "kernelspec": {
   "display_name": "Python 3 (ipykernel)",
   "language": "python",
   "name": "python3"
  },
  "language_info": {
   "codemirror_mode": {
    "name": "ipython",
    "version": 3
   },
   "file_extension": ".py",
   "mimetype": "text/x-python",
   "name": "python",
   "nbconvert_exporter": "python",
   "pygments_lexer": "ipython3",
   "version": "3.9.6"
  }
 },
 "nbformat": 4,
 "nbformat_minor": 5
}
