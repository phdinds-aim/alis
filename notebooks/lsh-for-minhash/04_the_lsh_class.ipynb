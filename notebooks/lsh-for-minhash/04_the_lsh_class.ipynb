{
 "cells": [
  {
   "cell_type": "markdown",
   "id": "21a17351",
   "metadata": {},
   "source": [
    "# The `LSH` class for a many-to-many document similarity task"
   ]
  },
  {
   "cell_type": "markdown",
   "id": "29fae338",
   "metadata": {},
   "source": [
    "In this section, we implement the traditional LSH appraoch to a hypothetical many-to-many document similarity task. The objective is to bucket similar documents together. The implementation is done through the `LSH` class which leverages on `dask.bag` functionality and methods to *parallelize* the **banding technique**. Specifically, the map (hash function) and reduce (bucketing) tasks.\n",
    "\n",
    "The `LSH` has three main methods:\n",
    "\n",
    "* `make_bands` - This method takes in the desired number of `bands` as a parameter and returns a dictionary with band labels as keys and `dask.bag` of (set/document index, signature band) tuples. Here, signature bands are defined as a slice of a document's signature.\n",
    "    * Parameters\n",
    "        - `bands` - (int) desired number of bands\n",
    "    * Returns\n",
    "        - `band_dict` - (dict) dictionary with band labels as keys and (set/doc index, signature band) tuples as values\n",
    "        \n",
    "* `get_buckets` - This method implementes the map-reduce step of the traditional banding technique. Specifically, signature slices of each band are hashed using `hash_functions` (map). The document indices are then grouped according to their hash values.\n",
    "\n",
    "    * Parameters\n",
    "        - `hash_functions` - (list, default=None) a list of hash functions with size equivalent to the number of bands. A hash function in the list is applied to a band with the same index. When None, the funciton defaults to using the python builtin `hash` function. *Note: python's hash function value for the same input vary across partitions--hence, current implementation stores all elements of a band in one partition.*\n",
    "    * Returns\n",
    "        - band_buckets - (dict) a dictionary with hash bucket as keys and a list of similar document indices as values.\n",
    "* `plot_thresh` - Shows the S-curve corresponding to the choice of number of `bands`. The similirity threshold (i.e., the Jaccard similarity value that is the basis of tagging a pair as candidate pairs or not) is emphasized. \n",
    "    * Paramters\n",
    "        - `display_thresh` - (bool, default=True) whether to display emphasis on the similarity threshold or not.\n",
    "        - `ax` - (`matplotlib.pyplot Axis`, default=None) axis for plotting.\n",
    "        - `**kwargs` - keyword arguments for the `matplotlib.pyplot.plot()` function.\n",
    "    * Returns\n",
    "        - `matplotlib.pyplot` Axis object\n"
   ]
  },
  {
   "cell_type": "markdown",
   "id": "6440f7d6",
   "metadata": {},
   "source": [
    "## Examples\n",
    "\n",
    "Here we demonstrate the use of the `LSH` class on some examples. First off, make sure that a a `dask.distributed.Client` is initialized since class methods take advantage of the `dask`."
   ]
  },
  {
   "cell_type": "code",
   "execution_count": 1,
   "id": "4d321fe7",
   "metadata": {
    "ExecuteTime": {
     "end_time": "2022-03-28T16:30:44.720105Z",
     "start_time": "2022-03-28T16:30:40.909262Z"
    }
   },
   "outputs": [],
   "source": [
    "import numpy as np\n",
    "import matplotlib.pyplot as plt\n",
    "\n",
    "import minhash_lsh\n",
    "\n",
    "\n",
    "from dask.distributed import Client\n",
    "client = Client()"
   ]
  },
  {
   "cell_type": "markdown",
   "id": "b156ee1d",
   "metadata": {},
   "source": [
    "### Example 1 \n",
    "\n",
    "Suppose a signature matrix with dimensions $(n, m)$--where $n$ is the number of documents/sets and $m$ as the size of each signature vector. Signature vector values are randomly set to be within the 0 to 255 range."
   ]
  },
  {
   "cell_type": "code",
   "execution_count": 2,
   "id": "b2505d1b",
   "metadata": {
    "ExecuteTime": {
     "end_time": "2022-03-28T16:30:44.742127Z",
     "start_time": "2022-03-28T16:30:44.724969Z"
    }
   },
   "outputs": [
    {
     "data": {
      "text/plain": [
       "array([[ 23, 154,  91, ...,  80,   8, 230],\n",
       "       [244, 229, 205, ..., 245, 101,  34],\n",
       "       [189,  99,  64, ..., 129,  16, 170],\n",
       "       ...,\n",
       "       [  6,  28, 197, ..., 175, 228, 111],\n",
       "       [ 87, 214, 103, ..., 163,  23,  66],\n",
       "       [138, 131,  50, ..., 224,  55,   7]])"
      ]
     },
     "metadata": {},
     "output_type": "display_data"
    }
   ],
   "source": [
    "n = 1000 # samples (rows)\n",
    "m = 100 # signature features (columns)\n",
    "\n",
    "# signature matrix\n",
    "signature = np.random.randint(255, size=(n, m))\n",
    "display(signature)"
   ]
  },
  {
   "cell_type": "markdown",
   "id": "aa914789",
   "metadata": {},
   "source": [
    "Running the `get_buckets` function `with compute=False` returns a `dask.bag` which can be inspected further using `dask.bag` functions, such as `filter`."
   ]
  },
  {
   "cell_type": "code",
   "execution_count": 3,
   "id": "929b0c0f",
   "metadata": {
    "ExecuteTime": {
     "end_time": "2022-03-28T16:30:45.561699Z",
     "start_time": "2022-03-28T16:30:44.743907Z"
    }
   },
   "outputs": [
    {
     "name": "stdout",
     "output_type": "stream",
     "text": [
      "Rows per band:  10\n",
      "Number of bands:  10\n",
      "Group of buckets:  10\n"
     ]
    },
    {
     "data": {
      "text/plain": [
       "{0: dask.bag<lambda, npartitions=1>,\n",
       " 1: dask.bag<lambda, npartitions=1>,\n",
       " 2: dask.bag<lambda, npartitions=1>,\n",
       " 3: dask.bag<lambda, npartitions=1>,\n",
       " 4: dask.bag<lambda, npartitions=1>,\n",
       " 5: dask.bag<lambda, npartitions=1>,\n",
       " 6: dask.bag<lambda, npartitions=1>,\n",
       " 7: dask.bag<lambda, npartitions=1>,\n",
       " 8: dask.bag<lambda, npartitions=1>,\n",
       " 9: dask.bag<lambda, npartitions=1>}"
      ]
     },
     "metadata": {},
     "output_type": "display_data"
    }
   ],
   "source": [
    "lsh = minhash_lsh.LSH(signature)\n",
    "lsh.make_bands(bands=10)\n",
    "print(\"Rows per band: \", lsh.r)\n",
    "print(\"Number of bands: \", lsh.bands)\n",
    "buckets = lsh.get_buckets()\n",
    "print(\"Group of buckets: \", len(buckets.keys()))\n",
    "\n",
    "display(buckets)"
   ]
  },
  {
   "cell_type": "markdown",
   "id": "864f47e6",
   "metadata": {},
   "source": [
    "Due to randomness of the dummy signature matrix values, we expect zero to minimal collisions. Filter results show that all bands return no similar signatures."
   ]
  },
  {
   "cell_type": "code",
   "execution_count": 4,
   "id": "1e5a344d",
   "metadata": {
    "ExecuteTime": {
     "end_time": "2022-03-28T16:30:47.468076Z",
     "start_time": "2022-03-28T16:30:45.564533Z"
    }
   },
   "outputs": [
    {
     "data": {
      "text/plain": [
       "[]"
      ]
     },
     "execution_count": 4,
     "metadata": {},
     "output_type": "execute_result"
    }
   ],
   "source": [
    "buckets[0].filter(lambda x: len(x[1]) > 1).compute()"
   ]
  },
  {
   "cell_type": "markdown",
   "id": "cd943655",
   "metadata": {},
   "source": [
    "Since the the signature matrix is relatively small, we can verify the lack in collisions by inspecting the threshold (i.e., through the `plot_thresh` method) and comparing it with the actual Jaccard similarity distribution of the signature marix. Exhaustively calculating the Jaccard similarity for all pairs may require some waiting time, ~30 seconds on a standard machine."
   ]
  },
  {
   "cell_type": "code",
   "execution_count": 5,
   "id": "eb906eee",
   "metadata": {
    "ExecuteTime": {
     "end_time": "2022-03-28T16:30:47.780794Z",
     "start_time": "2022-03-28T16:30:47.472055Z"
    }
   },
   "outputs": [
    {
     "data": {
      "image/png": "[encoded data removed]",
      "text/plain": [
       "<Figure size 720x360 with 1 Axes>"
      ]
     },
     "metadata": {
      "needs_background": "light"
     },
     "output_type": "display_data"
    }
   ],
   "source": [
    "# plotting the s-curve\n",
    "ax = lsh.plot_thresh()\n",
    "plt.show()"
   ]
  },
  {
   "cell_type": "code",
   "execution_count": 6,
   "id": "39dfd2eb",
   "metadata": {
    "ExecuteTime": {
     "end_time": "2022-03-28T16:30:55.179832Z",
     "start_time": "2022-03-28T16:30:47.782807Z"
    }
   },
   "outputs": [],
   "source": [
    "from itertools import combinations\n",
    "from scipy.spatial.distance import jaccard\n",
    "\n",
    "def jaccard_sim(u, v):\n",
    "    return 1 - jaccard(u, v)\n",
    "\n",
    "similarities = [jaccard_sim(signature[u_idx], signature[v_idx]) \\\n",
    "                for u_idx, v_idx in combinations(range(1000), 2)]"
   ]
  },
  {
   "cell_type": "code",
   "execution_count": 7,
   "id": "09403c5b",
   "metadata": {
    "ExecuteTime": {
     "end_time": "2022-03-28T16:30:57.972985Z",
     "start_time": "2022-03-28T16:30:55.184120Z"
    }
   },
   "outputs": [
    {
     "data": {
      "image/png": "[encoded data removed]",
      "text/plain": [
       "<Figure size 432x288 with 1 Axes>"
      ]
     },
     "metadata": {
      "needs_background": "light"
     },
     "output_type": "display_data"
    }
   ],
   "source": [
    "# jaccard similarity distribution\n",
    "plt.hist(similarities, bins=10, log=True)\n",
    "plt.show()"
   ]
  },
  {
   "cell_type": "markdown",
   "id": "6a56e147",
   "metadata": {},
   "source": [
    "The above example illustrates a signature matrix with very low similarity scores as confirmed by the distribution plot of actual Jaccard similarities."
   ]
  },
  {
   "cell_type": "markdown",
   "id": "24abb8e3",
   "metadata": {},
   "source": [
    "### Example 2 \n",
    "\n",
    "Suppose we have a signature matrix where all items are similar. We see that across all bands, all the samples are placed in the same buckets. This time, we pass the `compute=True` flag to cast the `dask.bags` into a lists as values to the dictionary output of `get_buckets`."
   ]
  },
  {
   "cell_type": "code",
   "execution_count": 8,
   "id": "883050a4",
   "metadata": {
    "ExecuteTime": {
     "end_time": "2022-03-28T16:30:59.920194Z",
     "start_time": "2022-03-28T16:30:57.975432Z"
    }
   },
   "outputs": [
    {
     "name": "stdout",
     "output_type": "stream",
     "text": [
      "Rows per band:  10\n",
      "Number of bands:  10\n"
     ]
    },
    {
     "data": {
      "text/plain": [
       "{0: [(7039227582338824473, [0, 1, 2, 3, 4, 5, 6, 7, 8, 9])],\n",
       " 1: [(905121771785591117, [0, 1, 2, 3, 4, 5, 6, 7, 8, 9])],\n",
       " 2: [(7039227582338824473, [0, 1, 2, 3, 4, 5, 6, 7, 8, 9])],\n",
       " 3: [(905121771785591117, [0, 1, 2, 3, 4, 5, 6, 7, 8, 9])],\n",
       " 4: [(7039227582338824473, [0, 1, 2, 3, 4, 5, 6, 7, 8, 9])],\n",
       " 5: [(905121771785591117, [0, 1, 2, 3, 4, 5, 6, 7, 8, 9])],\n",
       " 6: [(7039227582338824473, [0, 1, 2, 3, 4, 5, 6, 7, 8, 9])],\n",
       " 7: [(905121771785591117, [0, 1, 2, 3, 4, 5, 6, 7, 8, 9])],\n",
       " 8: [(7039227582338824473, [0, 1, 2, 3, 4, 5, 6, 7, 8, 9])],\n",
       " 9: [(905121771785591117, [0, 1, 2, 3, 4, 5, 6, 7, 8, 9])]}"
      ]
     },
     "metadata": {},
     "output_type": "display_data"
    }
   ],
   "source": [
    "# some edge case : all items are similar\n",
    "n = 10\n",
    "m = 100\n",
    "\n",
    "# all values are 1\n",
    "signature = np.full((n, m), 1)\n",
    "\n",
    "lsh = minhash_lsh.LSH(signature)\n",
    "lsh.make_bands(bands=10)\n",
    "print(\"Rows per band: \", lsh.r)\n",
    "print(\"Number of bands: \", lsh.bands)\n",
    "display(lsh.get_buckets(compute=True))\n"
   ]
  },
  {
   "cell_type": "markdown",
   "id": "9b44d205",
   "metadata": {},
   "source": [
    "### Example 3 \n",
    "Suppose now another signature matrix where there are two groups of sets that are similar. We shall observe that for each band, we have two buckets corresponding to the two similarity groups (1's group and 2's group)."
   ]
  },
  {
   "cell_type": "code",
   "execution_count": 9,
   "id": "c82b4207",
   "metadata": {
    "ExecuteTime": {
     "end_time": "2022-03-28T16:31:00.431084Z",
     "start_time": "2022-03-28T16:30:59.923363Z"
    }
   },
   "outputs": [
    {
     "name": "stdout",
     "output_type": "stream",
     "text": [
      "Rows per band:  10\n",
      "Number of bands:  10\n"
     ]
    },
    {
     "data": {
      "text/plain": [
       "{0: [(7039227582338824473, [0, 1, 2, 3, 4, 5, 6, 7, 8, 9]),\n",
       "  (-7732317896982758661, [10, 11, 12, 13, 14, 15, 16, 17, 18, 19])],\n",
       " 1: [(905121771785591117, [0, 1, 2, 3, 4, 5, 6, 7, 8, 9]),\n",
       "  (-6001486599591525310, [10, 11, 12, 13, 14, 15, 16, 17, 18, 19])],\n",
       " 2: [(7039227582338824473, [0, 1, 2, 3, 4, 5, 6, 7, 8, 9]),\n",
       "  (-7732317896982758661, [10, 11, 12, 13, 14, 15, 16, 17, 18, 19])],\n",
       " 3: [(905121771785591117, [0, 1, 2, 3, 4, 5, 6, 7, 8, 9]),\n",
       "  (-6001486599591525310, [10, 11, 12, 13, 14, 15, 16, 17, 18, 19])],\n",
       " 4: [(7039227582338824473, [0, 1, 2, 3, 4, 5, 6, 7, 8, 9]),\n",
       "  (-7732317896982758661, [10, 11, 12, 13, 14, 15, 16, 17, 18, 19])],\n",
       " 5: [(905121771785591117, [0, 1, 2, 3, 4, 5, 6, 7, 8, 9]),\n",
       "  (-6001486599591525310, [10, 11, 12, 13, 14, 15, 16, 17, 18, 19])],\n",
       " 6: [(7039227582338824473, [0, 1, 2, 3, 4, 5, 6, 7, 8, 9]),\n",
       "  (-7732317896982758661, [10, 11, 12, 13, 14, 15, 16, 17, 18, 19])],\n",
       " 7: [(905121771785591117, [0, 1, 2, 3, 4, 5, 6, 7, 8, 9]),\n",
       "  (-6001486599591525310, [10, 11, 12, 13, 14, 15, 16, 17, 18, 19])],\n",
       " 8: [(7039227582338824473, [0, 1, 2, 3, 4, 5, 6, 7, 8, 9]),\n",
       "  (-7732317896982758661, [10, 11, 12, 13, 14, 15, 16, 17, 18, 19])],\n",
       " 9: [(905121771785591117, [0, 1, 2, 3, 4, 5, 6, 7, 8, 9]),\n",
       "  (-6001486599591525310, [10, 11, 12, 13, 14, 15, 16, 17, 18, 19])]}"
      ]
     },
     "metadata": {},
     "output_type": "display_data"
    }
   ],
   "source": [
    "# two similar groups\n",
    "n = 10 # total of 20 samples\n",
    "m = 100\n",
    "\n",
    "# concatentate two full matrices: matrix of 1's and 2's\n",
    "signature = np.concatenate((np.full((n, m), 1), np.full((n, m), 2)))\n",
    "\n",
    "lsh = minhash_lsh.LSH(signature)\n",
    "lsh.make_bands(bands=10)\n",
    "print(\"Rows per band: \", lsh.r)\n",
    "print(\"Number of bands: \", lsh.bands)\n",
    "display(lsh.get_buckets(compute=True))"
   ]
  }
 ],
 "metadata": {
  "hide_input": false,
  "kernelspec": {
   "display_name": "Python 3 (ipykernel)",
   "language": "python",
   "name": "python3"
  },
  "language_info": {
   "codemirror_mode": {
    "name": "ipython",
    "version": 3
   },
   "file_extension": ".py",
   "mimetype": "text/x-python",
   "name": "python",
   "nbconvert_exporter": "python",
   "pygments_lexer": "ipython3",
   "version": "3.9.6"
  },
  "toc": {
   "base_numbering": 1,
   "nav_menu": {},
   "number_sections": true,
   "sideBar": true,
   "skip_h1_title": false,
   "title_cell": "Table of Contents",
   "title_sidebar": "Contents",
   "toc_cell": false,
   "toc_position": {},
   "toc_section_display": true,
   "toc_window_display": false
  }
 },
 "nbformat": 4,
 "nbformat_minor": 5
}
