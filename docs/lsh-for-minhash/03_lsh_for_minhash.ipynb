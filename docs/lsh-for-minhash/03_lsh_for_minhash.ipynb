{
 "cells": [
  {
   "cell_type": "markdown",
   "id": "520c157a",
   "metadata": {},
   "source": [
    "# LSH for Minhash Signatures: Banding Technique"
   ]
  },
  {
   "cell_type": "markdown",
   "id": "ce2b3905",
   "metadata": {},
   "source": [
    "In this section, we discuss the more traditional approach to LSH which follows the workflow of ***shingling $\\rightarrow$ minhashing $\\rightarrow$ banding*** (*the actual LSH step*).\n",
    "\n",
    "Recall: We can express documents as *k*-shingles (or whichever token we choose) and consequently perform a mminhashing to obtain signatures. We arrange these into columns of a matrix--where rows correspond to each item of a signature. Also, suppose that the signatures now have invariant lengths (i.e., number of rows) due to the prior 'preprocessing' done.\n",
    "\n",
    "We obtain a structure similar to what is shown below:\n",
    "\n",
    "<img src='band_structure.PNG'></img>\n",
    "</br>\n",
    "<center><b>Figure 1. Segmented signature matrix. Four segments/bands with three rows per segment.</b></br>Taken from Leskovec et. al. <a href=\"http://www.mmds.org/\"><i>Mining Massive Datasets</i></a> (2020)</center>\n",
    "\n",
    "Notice that unlike those discussed in Minhashing, this signature matrix are now segmented into bands containing three (3) rows per band. Why do this?\n",
    "\n",
    "Let's break it down. If we simply apply a hash function to full signatures then it will most likely be that we will only get the completely identical signatures--losing pairs that hold some similarity (i.e., candidate pairs) in some segments of their respective signatures. *Note: We end up discarding similar but not identical documents.* This presents another compelling reason for the banded LSH approach.\n",
    "\n",
    "A natural course to this is to \"hash\" the items several times using different hash functions banking on the idea that similar items will more likely be hashed to the same bucket--otherwise, dissimilar items. The book terminology for items hashed into the same buckets are *candidate pairs*. Narrowing down the search? Voila! *Candidate pairs* instead of that $n \\choose 2$ number of pairs.\n",
    "\n",
    "Alternatively, for minhashed signatures like the one shown in Figure 1, hashing can be applied per band/segment. Hash functions can either be varied per band/segment or the same. In effect, multiple hashing and/or segmented hashing addresses the overfit on getting only identical but not similar items.\n",
    "\n",
    "Banded signatures are then hashed, forming different hash tables for each band. Candidate pairs are then determined according to those hashed in the same buckets. See Figure 2 for the underlying mechanics.\n",
    "\n",
    "\n",
    "<img src='bandhash_mechanics.PNG' height=500 width=700></img>\n",
    "</br>\n",
    "<center><b>Figure 2. Underlying mechanics of the \"Band Hashing\" method for two banded signature sets $a$ and $b$.</b> </br>Taken from James Briggs' <a href=\"https://www.pinecone.io/learn/locality-sensitive-hashing/\"><i>Locality Sensitive Hashing (LSH): The Illustrated Guide</i></a> © Pinecone Systems, Inc.</center>"
   ]
  }
 ],
 "metadata": {
  "hide_input": false,
  "kernelspec": {
   "display_name": "Python 3 (ipykernel)",
   "language": "python",
   "name": "python3"
  },
  "language_info": {
   "codemirror_mode": {
    "name": "ipython",
    "version": 3
   },
   "file_extension": ".py",
   "mimetype": "text/x-python",
   "name": "python",
   "nbconvert_exporter": "python",
   "pygments_lexer": "ipython3",
   "version": "3.9.6"
  },
  "toc": {
   "base_numbering": 1,
   "nav_menu": {},
   "number_sections": true,
   "sideBar": true,
   "skip_h1_title": false,
   "title_cell": "Table of Contents",
   "title_sidebar": "Contents",
   "toc_cell": false,
   "toc_position": {},
   "toc_section_display": true,
   "toc_window_display": false
  }
 },
 "nbformat": 4,
 "nbformat_minor": 5
}
