{
 "cells": [
  {
   "cell_type": "markdown",
   "id": "60bae3e3",
   "metadata": {},
   "source": [
    "# Minhashing"
   ]
  },
  {
   "cell_type": "markdown",
   "id": "cf5ea21f",
   "metadata": {},
   "source": [
    "Discussion of minhashing here."
   ]
  }
 ],
 "metadata": {
  "kernelspec": {
   "display_name": "Python [conda env:.conda-alis]",
   "language": "python",
   "name": "conda-env-.conda-alis-py"
  },
  "language_info": {
   "codemirror_mode": {
    "name": "ipython",
    "version": 3
   },
   "file_extension": ".py",
   "mimetype": "text/x-python",
   "name": "python",
   "nbconvert_exporter": "python",
   "pygments_lexer": "ipython3",
   "version": "3.8.12"
  }
 },
 "nbformat": 4,
 "nbformat_minor": 5
}
