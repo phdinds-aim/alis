{
 "cells": [
  {
   "cell_type": "markdown",
   "id": "28a39cd3",
   "metadata": {},
   "source": [
    "# Set Similarity"
   ]
  },
  {
   "cell_type": "markdown",
   "id": "435dc503",
   "metadata": {},
   "source": [
    "Discussion of set similarity here."
   ]
  }
 ],
 "metadata": {
  "kernelspec": {
   "display_name": "Python [conda env:.conda-alis]",
   "language": "python",
   "name": "conda-env-.conda-alis-py"
  },
  "language_info": {
   "codemirror_mode": {
    "name": "ipython",
    "version": 3
   },
   "file_extension": ".py",
   "mimetype": "text/x-python",
   "name": "python",
   "nbconvert_exporter": "python",
   "pygments_lexer": "ipython3",
   "version": "3.8.12"
  }
 },
 "nbformat": 4,
 "nbformat_minor": 5
}
