{
 "cells": [
  {
   "cell_type": "markdown",
   "id": "983ee773",
   "metadata": {},
   "source": [
    "# Shingling of Documents"
   ]
  },
  {
   "cell_type": "markdown",
   "id": "8366cae4",
   "metadata": {},
   "source": [
    "Discussion of shingling of documents here"
   ]
  }
 ],
 "metadata": {
  "kernelspec": {
   "display_name": "Python [conda env:.conda-alis]",
   "language": "python",
   "name": "conda-env-.conda-alis-py"
  },
  "language_info": {
   "codemirror_mode": {
    "name": "ipython",
    "version": 3
   },
   "file_extension": ".py",
   "mimetype": "text/x-python",
   "name": "python",
   "nbconvert_exporter": "python",
   "pygments_lexer": "ipython3",
   "version": "3.8.12"
  }
 },
 "nbformat": 4,
 "nbformat_minor": 5
}
