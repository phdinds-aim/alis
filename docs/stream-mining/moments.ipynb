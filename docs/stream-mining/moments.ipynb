{
 "cells": [
  {
   "cell_type": "markdown",
   "id": "460beb72",
   "metadata": {},
   "source": [
    "# Moments\n",
    "\n",
    "Computing the \"moments\" of a stream involves getting the distribution of the different elements in a stream, and is a generalization of the previous problem of counting distinct elements. Let $m_i$ be the number of occurences of element $i$ in a stream. The *kth-order moment* of a stream is the sum over all $i$ of $(m_i)^k$, or $\\sum_i(m_i)^k$.\n",
    "\n",
    "The 0th order moment of a stream is the sum of $(m_i)^0$, or the sum of 1 for each element $i$ found in the stream, or simply the count of distinct elements in the stream. We can use the Flajolet-Martin algorithm detailed above for this.\n",
    "\n",
    "The 1st moment is the sum of $m_i$'s, or simply the length of the stream.\n",
    "\n",
    "The 2nd moment is the sum $(m_i)^2$. This measures how uneven the distribution of the elements of the stream is, and is also called the *surprise number*. Again, if the we have the capacity to store $m_i$ for each element of the stream then this is easy to calculate. However if the number of elements if too large we need to look for alternatives such as approximation. One way to estimate the 2nd moment of the stream is to use the Alon-Matias-Szegedy (AMS) algorithm.\n",
    "\n",
    "## Alon-Matias-Szegedy Algorithm for Second Moments\n",
    "\n",
    "In the AMS algoritm we calculate a number of variables $X$ as we go through the stream. The more $X$'s we calculate, the more accurate our estimate will be. Each element $X$ contains:\n",
    "\n",
    "1. $X.element$ - an element of the universal set found in the stream.\n",
    "2. $X.value$ - the number of times we have seen $X.element$ in the stream since we have started tracking it.\n",
    "\n",
    "The estimate of the 2nd moment is $n \\times (2 \\times X.value − 1)$, where $n$ is the length of the stream. We improve the final estimate by averaging the estimate of all $X$'s. One thing to note is we do not start tracking all the $X$ variables at the start of the stream. Instead, we start tracking each $X$ variable at random points as we go through the stream. \n",
    "\n",
    "As an example, suppose we have a stream of length $n=15$ and having values *a,b,c,b,d,a,c,d,a,b,d,c,a,a,b*. $m_a=5$, $m_b=4$, $m_c=3$, and $m_d=3$. The surprise number for this stream is therefore $52 + 42 + 32 + 32 = 59$. Let's calculate 3 variables $X_1$, $X_2$, and $X_3$, starting at 3rd, 8th, and 13th positions respectively at \"random\".\n",
    "\n",
    "* At position 3 we find *c*, so we set $X_1.element$ to *c* and $X_1.value$ to 1. We'll encounter two more *c* as we go through the stream so the final value of $X_1.value$ is 3.\n",
    "\n",
    "* At position 8 we find *d*, so $X_2.element=d$ and $X_2.value=1$. At the end of the stream $X_2.value=2, since we only count starting from position 8.\n",
    "\n",
    "* At position 13 is *a*, so $X_3.element=a$. The final value of $X_3.value$ is 2.\n",
    "\n",
    "We calculate the estimate as $n \\times (2 \\times X.value − 1)$, so that's $15×(2×3−1)=75$ for $X_1$ and $15×(2×2−1)=45$ for both $X_2$ and $X_3$. The average of the estimates is $(75+45+45) \\div 3 = 55$, which is close to the actual value of $59$."
   ]
  },
  {
   "cell_type": "code",
   "execution_count": 20,
   "id": "10f50407",
   "metadata": {},
   "outputs": [
    {
     "name": "stdout",
     "output_type": "stream",
     "text": [
      "Iteration 100000 Real 2nd Moment: 142268 Approx 2nd Moment: 142076.22356186778\n",
      "Iteration 200000 Real 2nd Moment: 369446 Approx 2nd Moment: 369975.5602932765\n",
      "Iteration 300000 Real 2nd Moment: 680670 Approx 2nd Moment: 686277.8972605155\n",
      "Iteration 400000 Real 2nd Moment: 1077736 Approx 2nd Moment: 1097115.2541452956\n",
      "Iteration 500000 Real 2nd Moment: 1559600 Approx 2nd Moment: 1598531.5647043167\n",
      "Iteration 600000 Real 2nd Moment: 2127440 Approx 2nd Moment: 2195491.3622203344\n",
      "Iteration 700000 Real 2nd Moment: 2778316 Approx 2nd Moment: 2883885.3955207868\n",
      "Iteration 800000 Real 2nd Moment: 3513340 Approx 2nd Moment: 3668286.941681869\n",
      "Iteration 900000 Real 2nd Moment: 4334438 Approx 2nd Moment: 4545672.967889112\n",
      "Iteration 1000000 Real 2nd Moment: 5239120 Approx 2nd Moment: 5536791.019167607\n"
     ]
    }
   ],
   "source": [
    "variables = {}\n",
    "realDistribution = {}\n",
    "\n",
    "n = 0\n",
    "\n",
    "while n < 1000000:\n",
    "    word = np.random.choice(words)\n",
    "    \n",
    "    if word in variables:\n",
    "        variables[word] += 1\n",
    "    else:\n",
    "        if random.random() < 0.1: #add to variables with 10% chance\n",
    "            variables[word] = 1\n",
    "    \n",
    "    #Get the real distribution for validation\n",
    "    if word not in realDistribution:\n",
    "        realDistribution[word] = 0\n",
    "        \n",
    "    realDistribution[word] += 1\n",
    "    \n",
    "    n += 1\n",
    "    if n % 100000 == 0:\n",
    "        real2ndMoment = 0\n",
    "        for w in realDistribution:\n",
    "            real2ndMoment += realDistribution[w] ** 2\n",
    "    \n",
    "        #Calculate 2nd moment using the AMS variables\n",
    "        approx2ndMoment = 0\n",
    "        for w in variables:\n",
    "            approx2ndMoment += n * ((2 * variables[w]) - 1)\n",
    "            \n",
    "        approx2ndMoment /= len(variables)\n",
    "\n",
    "        print('Iteration', n, 'Real 2nd Moment:', real2ndMoment, 'Approx 2nd Moment:', approx2ndMoment)\n",
    "        "
   ]
  },
  {
   "cell_type": "markdown",
   "id": "bab8db92",
   "metadata": {},
   "source": [
    "## Higher Order Elements\n",
    "\n",
    "We can estimate higher-order elements similar to how we estimate 2nd-order elements. The only difference is instead of $n \\times (2 \\times X.value − 1)$ for the estimate, the formula is now $n \\times (X.value^k−(X.value−1)^k)$.\n",
    "\n",
    "Below we provide an alonMatiasSzegedy() function that takes as argument the moment value to approximate for, the number of variables to track, and the probability of an element in an array becoming a variable."
   ]
  },
  {
   "cell_type": "code",
   "execution_count": 31,
   "id": "163c740f",
   "metadata": {},
   "outputs": [
    {
     "name": "stdout",
     "output_type": "stream",
     "text": [
      "233333.33333333334\n"
     ]
    }
   ],
   "source": [
    "def alonMatiasSzegedy(iterator, k_moment=2, num_variables=3, var_prob=0.1):\n",
    "    variables = {}\n",
    "    n = 0\n",
    "  \n",
    "    for val in iterator:\n",
    "        n += 1\n",
    "        \n",
    "        if val not in variables:\n",
    "            if len(variables) < num_variables and random.random() < var_prob:\n",
    "                variables[val] = 1\n",
    "        else:\n",
    "            variables[val] += 1\n",
    "\n",
    "\n",
    "    amsMoment = 0\n",
    "    for w in variables:\n",
    "        amsMoment +=   n * (variables[w]**k_moment - ((variables[w] - 1)**k_moment))\n",
    "\n",
    "    amsMoment /= len(variables)\n",
    "    return amsMoment\n",
    "\n",
    "testList = []\n",
    "n=0\n",
    "while n < 100000:\n",
    "    n += 1\n",
    "    testList.append(np.random.choice(words))\n",
    "\n",
    "test_iterator = iter(testList)\n",
    "\n",
    "print(alonMatiasSzegedy(test_iterator))"
   ]
  },
  {
   "cell_type": "markdown",
   "id": "a241f2b8",
   "metadata": {},
   "source": [
    "### Exercise\n",
    "\n",
    "1. Using the example above, with $X_1.value=3$, $X_2.value=2$, and $X_3.value=2$, what is the 5th moment?"
   ]
  }
 ],
 "metadata": {
  "kernelspec": {
   "display_name": "Python 3 (ipykernel)",
   "language": "python",
   "name": "python3"
  },
  "language_info": {
   "codemirror_mode": {
    "name": "ipython",
    "version": 3
   },
   "file_extension": ".py",
   "mimetype": "text/x-python",
   "name": "python",
   "nbconvert_exporter": "python",
   "pygments_lexer": "ipython3",
   "version": "3.8.12"
  }
 },
 "nbformat": 4,
 "nbformat_minor": 5
}
