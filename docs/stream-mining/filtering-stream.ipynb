{
 "cells": [
  {
   "cell_type": "markdown",
   "id": "36b76831",
   "metadata": {},
   "source": [
    "# Filtering Streams\n",
    "\n",
    "Another common use case is filtering data in a stream. In this case we have a set $S$ of data that we want to filter for, but the size of $S$ is too large to fit in memory. Additionally, it is assumed that the elements in $S$ are only a small fraction of the universal set, such that it will be a big benefit just to be able to quickly verify that a value isn't part of $S$. In that case we can use a **Bloom filter**.\n",
    "\n",
    "## Bloom Filter\n",
    "\n",
    "A Bloom filter is a probabilistic data structure that is used for testing whether a value is a member of a set {cite:ps}`bloom1970space`. Instead of getting absolute *True* or *False* values when testing for membership, the Bloom filter instead returns True or False with the following meaning:\n",
    "\n",
    "1. True - Value is \"possibly\" in set.\n",
    "2. False - Value is **definitely** not in set.\n",
    "\n",
    "In other words the Bloom filter may return a false positive, but never a false negative. In return for this ambiguity the Bloom filter uses far less space than a hash table or a hash set, and is easier to keep in memory for fast lookups. There is a tradeoff between the space needed by the Bloom filter and the probability of getting a false positve, the larger the space utilized the less chance for getting false positives."
   ]
  },
  {
   "cell_type": "code",
   "execution_count": 9,
   "id": "2eb1c651",
   "metadata": {},
   "outputs": [],
   "source": [
    "#Setup bloom filter and filtering functions\n",
    "\n",
    "size = 100000\n",
    "bloomFilter = np.zeros(size, dtype=int)\n",
    "\n",
    "#Filter for 10% of words\n",
    "filterSet = np.random.choice(words, int(len(words) / 10))\n",
    "\n",
    "\n",
    "for key in filterSet:\n",
    "    #Hash twice using different methods, then set the index for both to 1.\n",
    "    index1 = hashInt(key, buckets=size)\n",
    "    index2 = hashInt(key, buckets=size, hashType='md5')\n",
    "\n",
    "    bloomFilter[index1] = 1\n",
    "    bloomFilter[index2] = 1\n",
    "\n",
    "def inBloomFilter(val):\n",
    "    #Hash twice, then verify that all values of the hash indexes are 1\n",
    "    index1 = hashInt(val, buckets=size)\n",
    "    index2 = hashInt(val, buckets=size, hashType='md5')\n",
    "    \n",
    "    if bloomFilter[index1] == 1 and bloomFilter[index2] == 1:\n",
    "        return True\n",
    "    else:\n",
    "        return False"
   ]
  },
  {
   "cell_type": "code",
   "execution_count": 12,
   "id": "02df6890",
   "metadata": {},
   "outputs": [
    {
     "name": "stdout",
     "output_type": "stream",
     "text": [
      "Iterations 100000 Maybe in Filter Set: 21455 Really in Filter Set: 9572\n",
      "Iterations 200000 Maybe in Filter Set: 42892 Really in Filter Set: 19080\n",
      "Iterations 300000 Maybe in Filter Set: 64396 Really in Filter Set: 28566\n",
      "Iterations 400000 Maybe in Filter Set: 85674 Really in Filter Set: 37980\n",
      "Iterations 500000 Maybe in Filter Set: 106912 Really in Filter Set: 47438\n",
      "Iterations 600000 Maybe in Filter Set: 128308 Really in Filter Set: 56984\n",
      "Iterations 700000 Maybe in Filter Set: 149718 Really in Filter Set: 66486\n",
      "Iterations 800000 Maybe in Filter Set: 171132 Really in Filter Set: 76124\n",
      "Iterations 900000 Maybe in Filter Set: 192420 Really in Filter Set: 85549\n",
      "Iterations 1000000 Maybe in Filter Set: 213840 Really in Filter Set: 95106\n"
     ]
    }
   ],
   "source": [
    "n = 0\n",
    "\n",
    "bloomYes = 0\n",
    "actualYes = 0\n",
    "\n",
    "\n",
    "while n < 1000000:\n",
    "    word = np.random.choice(words)\n",
    "    \n",
    "    if inBloomFilter(word):\n",
    "        bloomYes += 1\n",
    "        \n",
    "        if word in filterSet:\n",
    "            actualYes += 1\n",
    "            \n",
    "    n += 1\n",
    "    if n % 100000 == 0:\n",
    "        print('Iterations', n, 'Maybe in Filter Set:', bloomYes, 'Really in Filter Set:', actualYes)\n"
   ]
  },
  {
   "cell_type": "markdown",
   "id": "132cb74b",
   "metadata": {},
   "source": [
    "### Probability of False Positives\n",
    "\n",
    "Let $n$ be the length of the bit-array, $m$ be the size of set $S$, and $k$ be the number of hash functions we're using. The probability of getting a false positive is $(1-e^\\frac{-km}{n})^k$. For our example above, with $n=100000$, $m=23588$, and $k=2$, the probabity of a false positive is $14.14\\%$\n"
   ]
  }
 ],
 "metadata": {
  "kernelspec": {
   "display_name": "Python 3 (ipykernel)",
   "language": "python",
   "name": "python3"
  },
  "language_info": {
   "codemirror_mode": {
    "name": "ipython",
    "version": 3
   },
   "file_extension": ".py",
   "mimetype": "text/x-python",
   "name": "python",
   "nbconvert_exporter": "python",
   "pygments_lexer": "ipython3",
   "version": "3.8.12"
  }
 },
 "nbformat": 4,
 "nbformat_minor": 5
}
